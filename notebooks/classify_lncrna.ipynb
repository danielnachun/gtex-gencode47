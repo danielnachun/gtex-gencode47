{
 "cells": [
  {
   "cell_type": "markdown",
   "id": "fe608246",
   "metadata": {},
   "source": [
    "put the new lncRNA into some categories\n"
   ]
  },
  {
   "cell_type": "code",
   "execution_count": 109,
   "id": "9dfd11c3",
   "metadata": {},
   "outputs": [
    {
     "name": "stderr",
     "output_type": "stream",
     "text": [
      "/local/scratch/klawren/slrmtmp.48860077/ipykernel_12178/4237669646.py:8: DeprecationWarning: Please import `gaussian_kde` from the `scipy.stats` namespace; the `scipy.stats.kde` namespace is deprecated and will be removed in SciPy 2.0.0.\n",
      "  from scipy.stats.kde import gaussian_kde\n"
     ]
    }
   ],
   "source": [
    "import pandas as pd\n",
    "import seaborn as sns\n",
    "import pyranges as pr\n",
    "import numpy as np\n",
    "import matplotlib.pyplot as plt\n",
    "import upsetplot as up\n",
    "from matplotlib.colors import hex2color\n",
    "from scipy.stats.kde import gaussian_kde\n",
    "from matplotlib.colors import LogNorm\n",
    "from scipy import stats\n",
    "import os\n",
    "import matplotlib.patches as patches\n",
    "from statsmodels.stats.proportion import proportion_confint\n",
    "\n",
    "from tqdm.notebook import tqdm\n",
    "\n",
    "tqdm.pandas()"
   ]
  },
  {
   "cell_type": "code",
   "execution_count": null,
   "id": "ac7b9b95",
   "metadata": {},
   "outputs": [],
   "source": [
    "full_gencode_v47_path = \"/home/klawren/oak/gtex/data/other_references/gencode/gencode.v47.annotation.gtf\"\n",
    "full_gencode_v47=pr.read_gtf(full_gencode_v47_path).as_df()\n",
    "\n"
   ]
  },
  {
   "cell_type": "code",
   "execution_count": 159,
   "id": "422e6e76",
   "metadata": {},
   "outputs": [
    {
     "name": "stderr",
     "output_type": "stream",
     "text": [
      "/local/scratch/klawren/slrmtmp.48860077/ipykernel_12178/3742419282.py:2: DtypeWarning: Columns (2,4) have mixed types. Specify dtype option on import or set low_memory=False.\n",
      "  gencode_ids = pd.read_table('/home/klawren/oak/gtex/data/other_references/gencode/gencode_id_matching.txt')\n"
     ]
    }
   ],
   "source": [
    "# bring in gencode ids\n",
    "gencode_ids = pd.read_table('/home/klawren/oak/gtex/data/other_references/gencode/gencode_id_matching.txt')\n",
    "lncrnas = gencode_ids[gencode_ids['gene_type_grouped_highlight'].isin(['existing_lncRNA', 'new_lncRNA'])]"
   ]
  },
  {
   "cell_type": "code",
   "execution_count": 120,
   "id": "d323e7d6",
   "metadata": {},
   "outputs": [
    {
     "data": {
      "text/plain": [
       "np.int64(0)"
      ]
     },
     "execution_count": 120,
     "metadata": {},
     "output_type": "execute_result"
    }
   ],
   "source": [
    "gencode_genes = full_gencode_v47[full_gencode_v47['Feature'] == 'gene']\n",
    "gencode_genes['Strand'].isna().sum()"
   ]
  },
  {
   "cell_type": "code",
   "execution_count": 170,
   "id": "5d338cf8",
   "metadata": {},
   "outputs": [
    {
     "name": "stdout",
     "output_type": "stream",
     "text": [
      "Number of lncRNAs in both Antisense and Sense: 531\n",
      "Number of lncRNAs in both Antisense and Intergenic: 0\n",
      "Number of lncRNAs in both Sense and Intergenic: 0\n"
     ]
    },
    {
     "name": "stderr",
     "output_type": "stream",
     "text": [
      "/local/scratch/klawren/slrmtmp.48860077/ipykernel_12178/1484911030.py:45: SettingWithCopyWarning: \n",
      "A value is trying to be set on a copy of a slice from a DataFrame.\n",
      "Try using .loc[row_indexer,col_indexer] = value instead\n",
      "\n",
      "See the caveats in the documentation: https://pandas.pydata.org/pandas-docs/stable/user_guide/indexing.html#returning-a-view-versus-a-copy\n",
      "  lncrnas['lncrna_category'] = 'other'\n"
     ]
    }
   ],
   "source": [
    "# Annotate lncRNA genes as either 'Antisense' (overlapping a protein-coding gene on the opposite strand)\n",
    "# or 'Intergenic' (not overlapping any protein-coding gene at all)\n",
    "\n",
    "# Prepare Gencode v47 annotation DataFrame for gene-level features\n",
    "gencode_genes = full_gencode_v47[full_gencode_v47['Feature'] == 'gene']\n",
    "gencode_genes = gencode_genes[['Chromosome', 'Start', 'End', 'Strand', 'gene_id', 'gene_type', 'gene_name']]\n",
    "\n",
    "# Subset protein-coding genes and lncRNAs\n",
    "pc_genes = gencode_genes[gencode_genes['gene_type'] == 'protein_coding'].copy()\n",
    "lnc_genes = gencode_genes[gencode_genes['gene_type'].str.contains('lncRNA', case=False, na=False)].copy()\n",
    "\n",
    "# Convert to PyRanges for efficient overlap operations\n",
    "pc_pr = pr.PyRanges(pc_genes)\n",
    "lnc_pr = pr.PyRanges(lnc_genes)\n",
    "\n",
    "# Find lncRNAs that overlap a protein-coding gene on the opposite strand (Antisense)\n",
    "antisense_ids = set()\n",
    "for strand in ['+', '-']:\n",
    "    lnc_on_strand = lnc_pr[lnc_pr.Strand == strand]\n",
    "    pc_on_opposite = pc_pr[pc_pr.Strand == ('-' if strand == '+' else '+')]\n",
    "    overlap = lnc_on_strand.overlap(pc_on_opposite)\n",
    "    antisense_ids.update(overlap.df['gene_id'])\n",
    "\n",
    "# Find lncRNAs that overlap a protein-coding gene on the opposite strand (Antisense)\n",
    "antisense_ids = set()\n",
    "for strand in ['+', '-']:\n",
    "    lnc_on_strand = lnc_pr[lnc_pr.Strand == strand]\n",
    "    pc_on_opposite = pc_pr[pc_pr.Strand == ('-' if strand == '+' else '+')]\n",
    "    overlap = lnc_on_strand.overlap(pc_on_opposite)\n",
    "    antisense_ids.update(overlap.df['gene_id'])\n",
    "\n",
    "# Find lncRNAs that overlap a protein-coding gene on the same strand (Sense)\n",
    "sense_ids = set()\n",
    "for strand in ['+', '-']:\n",
    "    lnc_on_strand = lnc_pr[lnc_pr.Strand == strand]\n",
    "    pc_on_same = pc_pr[pc_pr.Strand == strand]\n",
    "    overlap = lnc_on_strand.overlap(pc_on_same)\n",
    "    sense_ids.update(overlap.df['gene_id'])\n",
    "\n",
    "# Find lncRNAs that do not overlap any protein-coding gene (Intergenic)\n",
    "overlap_any = lnc_pr.overlap(pc_pr)\n",
    "intergenic_ids = set(lnc_pr.df['gene_id']) - set(overlap_any.df['gene_id'])\n",
    "\n",
    "# Assign categories\n",
    "lncrnas['lncrna_category'] = 'other'\n",
    "lncrnas.loc[lncrnas['gene_id_v47'].isin(antisense_ids), 'lncrna_category'] = 'antisense'\n",
    "lncrnas.loc[lncrnas['gene_id_v47'].isin(sense_ids), 'lncrna_category'] = 'sense'\n",
    "lncrnas.loc[lncrnas['gene_id_v47'].isin(antisense_ids) & lncrnas['gene_id_v47'].isin(sense_ids), 'lncrna_category'] = 'overlapping_both_strands'\n",
    "lncrnas.loc[lncrnas['gene_id_v47'].isin(intergenic_ids), 'lncrna_category'] = 'intergenic'\n",
    "\n",
    "# Check for overlaps between categories\n",
    "antisense_set = set(antisense_ids)\n",
    "sense_set = set(sense_ids)\n",
    "intergenic_set = set(intergenic_ids)\n",
    "\n",
    "overlap_antisense_sense = antisense_set & sense_set\n",
    "overlap_antisense_intergenic = antisense_set & intergenic_set\n",
    "overlap_sense_intergenic = sense_set & intergenic_set\n",
    "\n",
    "print(f\"Number of lncRNAs in both Antisense and Sense: {len(overlap_antisense_sense)}\")\n",
    "print(f\"Number of lncRNAs in both Antisense and Intergenic: {len(overlap_antisense_intergenic)}\")\n",
    "print(f\"Number of lncRNAs in both Sense and Intergenic: {len(overlap_sense_intergenic)}\")\n"
   ]
  },
  {
   "cell_type": "code",
   "execution_count": 171,
   "id": "76de023a",
   "metadata": {},
   "outputs": [],
   "source": [
    "pd.merge(lncrnas[['gene_id_stable', 'lncrna_category']], gencode_ids, on='gene_id_stable', how='right').to_csv('/home/klawren/oak/gtex/data/other_references/gencode/gencode_id_matching_lncrna_category.txt', sep='\\t', index=None)"
   ]
  },
  {
   "cell_type": "code",
   "execution_count": 172,
   "id": "3a576286",
   "metadata": {},
   "outputs": [
    {
     "data": {
      "text/plain": [
       "lncrna_category\n",
       "intergenic                  20740\n",
       "antisense                   11158\n",
       "sense                        2485\n",
       "other                        2191\n",
       "overlapping_both_strands      531\n",
       "Name: count, dtype: int64"
      ]
     },
     "execution_count": 172,
     "metadata": {},
     "output_type": "execute_result"
    }
   ],
   "source": [
    "lncrnas['lncrna_category'].value_counts()"
   ]
  },
  {
   "cell_type": "code",
   "execution_count": null,
   "id": "239691d9",
   "metadata": {},
   "outputs": [],
   "source": []
  }
 ],
 "metadata": {
  "kernelspec": {
   "display_name": "Python 3 (ipykernel)",
   "language": "python",
   "name": "python3"
  },
  "language_info": {
   "codemirror_mode": {
    "name": "ipython",
    "version": 3
   },
   "file_extension": ".py",
   "mimetype": "text/x-python",
   "name": "python",
   "nbconvert_exporter": "python",
   "pygments_lexer": "ipython3",
   "version": "3.12.11"
  }
 },
 "nbformat": 4,
 "nbformat_minor": 5
}
