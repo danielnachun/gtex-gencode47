{
 "cells": [
  {
   "cell_type": "markdown",
   "id": "cfc8491d",
   "metadata": {},
   "source": [
    "test"
   ]
  },
  {
   "cell_type": "code",
   "execution_count": null,
   "id": "e241fd86",
   "metadata": {
    "vscode": {
     "languageId": "r"
    }
   },
   "outputs": [],
   "source": [
    "test"
   ]
  },
  {
   "cell_type": "code",
   "execution_count": null,
   "id": "e2712226",
   "metadata": {
    "vscode": {
     "languageId": "r"
    }
   },
   "outputs": [],
   "source": [
    "library(colocboost)"
   ]
  },
  {
   "cell_type": "code",
   "execution_count": null,
   "id": "19364460",
   "metadata": {
    "vscode": {
     "languageId": "r"
    }
   },
   "outputs": [],
   "source": [
    "# example region\n",
    "all_genes_path <- \"/home/klawren/oak/gtex/output/coloc/Adipose_Subcutaneous/Adipose_Subcutaneous.chr1:16104-1170341.all_genes.colocboost.rds\"\n",
    "v39_genes_path <- \"/home/klawren/oak/gtex/output/coloc/Adipose_Subcutaneous/Adipose_Subcutaneous.chr1:16104-1170341.v39_genes.colocboost.rds\"\n",
    "# cos2:y23_y82\tis a protien coding that only exists with new lncRNA!\n",
    "# cos9:y1_y61_y97 is two new lncRNA with protein coding gene\n",
    "\n",
    "all_genes_res <- readRDS(all_genes_path)\n",
    "v39_genes_res <- readRDS(v39_genes_path)"
   ]
  },
  {
   "cell_type": "code",
   "execution_count": null,
   "id": "88520ba7",
   "metadata": {
    "vscode": {
     "languageId": "r"
    }
   },
   "outputs": [
    {
     "data": {
      "text/html": [
       "<strong>agg_record_1708684070:</strong> 2"
      ],
      "text/latex": [
       "\\textbf{agg\\textbackslash{}\\_record\\textbackslash{}\\_1708684070:} 2"
      ],
      "text/markdown": [
       "**agg_record_1708684070:** 2"
      ],
      "text/plain": [
       "agg_record_1708684070 \n",
       "                    2 "
      ]
     },
     "metadata": {},
     "output_type": "display_data"
    },
    {
     "data": {
      "text/html": [
       "<strong>agg_record_1708684070:</strong> 2"
      ],
      "text/latex": [
       "\\textbf{agg\\textbackslash{}\\_record\\textbackslash{}\\_1708684070:} 2"
      ],
      "text/markdown": [
       "**agg_record_1708684070:** 2"
      ],
      "text/plain": [
       "agg_record_1708684070 \n",
       "                    2 "
      ]
     },
     "metadata": {},
     "output_type": "display_data"
    }
   ],
   "source": [
    "png(\"all_genes_colocboost_plot.png\", width=2000, height=2000)\n",
    "colocboost_plot(all_genes_res[[1]], plot_ucos = TRUE)\n",
    "dev.off()\n",
    "\n",
    "png(\"v39_genes_colocboost_plot.png\", width=2000, height=2000)\n",
    "colocboost_plot(v39_genes_res[[1]], plot_ucos = TRUE)\n",
    "# colocboost_plot(v39_genes_res[[1]], plot_ucos = TRUE, plot_all_outcome=TRUE)\n",
    "dev.off()"
   ]
  },
  {
   "cell_type": "code",
   "execution_count": null,
   "id": "fe69d576",
   "metadata": {
    "vscode": {
     "languageId": "r"
    }
   },
   "outputs": [
    {
     "name": "stdout",
     "output_type": "stream",
     "text": [
      "[1] \"All genes credible sets:\"\n",
      "                             phenotype_id           variant_id        pip\n",
      "1  Adipose_Subcutaneous.ENSG00000229376.3  chr1:806470:C:T:b38 0.75744020\n",
      "2  Adipose_Subcutaneous.ENSG00000229376.3  chr1:804185:G:C:b38 0.05118255\n",
      "3  Adipose_Subcutaneous.ENSG00000229376.3  chr1:804863:T:C:b38 0.05118255\n",
      "4  Adipose_Subcutaneous.ENSG00000229376.3  chr1:805036:A:G:b38 0.05118255\n",
      "5  Adipose_Subcutaneous.ENSG00000229376.3  chr1:771265:A:C:b38 0.04693517\n",
      "6 Adipose_Subcutaneous.ENSG00000131591.18 chr1:1091327:C:A:b38 0.99806643\n",
      "  neg_log10_p_value      cs_id        cs_type\n",
      "1          8.402177 ucos11:y17 trait_specific\n",
      "2           7.32258 ucos11:y17 trait_specific\n",
      "3           7.32258 ucos11:y17 trait_specific\n",
      "4           7.32258 ucos11:y17 trait_specific\n",
      "5           7.07342 ucos11:y17 trait_specific\n",
      "6          23.48059 ucos20:y41 trait_specific\n",
      "[1] \"Total credible sets: 18\"\n",
      "[1] \"Trait-specific credible sets (uCoS): 2\"\n",
      "[1] \"Trait-shared credible sets (CoS): 16\"\n",
      "[1] \"\\nV39 genes credible sets:\"\n",
      "                                                                                                                                                   phenotype_id\n",
      "1                                                                                                                        Adipose_Subcutaneous.ENSG00000286448.2\n",
      "2                                                                                                                       Adipose_Subcutaneous.ENSG00000131591.18\n",
      "3                                                                                 Adipose_Subcutaneous.ENSG00000235098.9,Adipose_Subcutaneous.ENSG00000225905.2\n",
      "4                                                                                 Adipose_Subcutaneous.ENSG00000241860.8,Adipose_Subcutaneous.ENSG00000286448.2\n",
      "5 Adipose_Subcutaneous.ENSG00000272512.1,Adipose_Subcutaneous.ENSG00000187608.10,Adipose_Subcutaneous.ENSG00000188157.16,Adipose_Subcutaneous.ENSG00000260179.1\n",
      "6 Adipose_Subcutaneous.ENSG00000272512.1,Adipose_Subcutaneous.ENSG00000187608.10,Adipose_Subcutaneous.ENSG00000188157.16,Adipose_Subcutaneous.ENSG00000260179.1\n",
      "            variant_id       pip                        neg_log10_p_value\n",
      "1  chr1:285155:A:C:b38 0.9852081                                 13.53869\n",
      "2 chr1:1091327:C:A:b38 0.9980664                                 23.48059\n",
      "3  chr1:596671:A:C:b38 0.9987554                       5.403632, 5.850046\n",
      "4  chr1:286747:A:G:b38 0.9995474                       3.701393, 5.308073\n",
      "5 chr1:1018652:C:G:b38 0.5053721 33.672815, 7.590933, 34.957139, 2.070223\n",
      "6 chr1:1018754:G:A:b38 0.3072774 32.844929, 7.583325, 34.526483, 2.146106\n",
      "                 cs_id        cs_type\n",
      "1             ucos7:y4 trait_specific\n",
      "2           ucos15:y30 trait_specific\n",
      "3         cos1:y56_y57   trait_shared\n",
      "4           cos2:y3_y4   trait_shared\n",
      "5 cos3:y24_y26_y28_y39   trait_shared\n",
      "6 cos3:y24_y26_y28_y39   trait_shared\n",
      "[1] \"Total credible sets: 10\"\n",
      "[1] \"Trait-specific credible sets (uCoS): 2\"\n",
      "[1] \"Trait-shared credible sets (CoS): 8\"\n"
     ]
    }
   ],
   "source": [
    "# Function to extract credible sets information with -log10(p-value) calculation\n",
    "extract_credible_sets <- function(colocboost_result) {\n",
    "  # Initialize empty lists to store results\n",
    "  trait_specific_cs <- list()\n",
    "  trait_shared_cs <- list()\n",
    "  \n",
    "  # Extract trait-specific credible sets (uCoS)\n",
    "  if (!is.null(colocboost_result$ucos_details)) {\n",
    "    ucos_variables <- colocboost_result$ucos_details$ucos$ucos_variables\n",
    "    ucos_outcomes <- colocboost_result$ucos_details$ucos_outcomes$outcome_index\n",
    "    ucos_weights <- colocboost_result$ucos_details$ucos_weight\n",
    "    \n",
    "    for (i in seq_along(ucos_variables)) {\n",
    "      cs_name <- names(ucos_variables)[i]\n",
    "      variants <- ucos_variables[[i]]\n",
    "      outcome_idx <- ucos_outcomes[[i]]\n",
    "      \n",
    "      # Extract phenotype names\n",
    "      phenotype_names <- colocboost_result$data_info$outcome_info$outcome_names\n",
    "      phenotype_id <- phenotype_names[outcome_idx]\n",
    "      \n",
    "      # Get all variant names to match PIP values\n",
    "      all_variants <- colocboost_result$data_info$variables\n",
    "      \n",
    "      # Extract PIP values for these specific variants\n",
    "      variant_indices <- match(variants, all_variants)\n",
    "      pip_values <- ucos_weights[[i]][variant_indices]\n",
    "      \n",
    "      # Extract z-scores and calculate -log10(p-values)\n",
    "      z_scores <- colocboost_result$data_info$z[[outcome_idx]][variant_indices]\n",
    "      neg_log10_p_values <- -log10(2 * pnorm(-abs(z_scores)))\n",
    "      \n",
    "      # Create dataframe for this credible set\n",
    "      cs_df <- data.frame(\n",
    "        phenotype_id = rep(phenotype_id, length(variants)),\n",
    "        variant_id = variants,\n",
    "        pip = pip_values,\n",
    "        neg_log10_p_value = neg_log10_p_values,\n",
    "        cs_id = rep(cs_name, length(variants)),\n",
    "        cs_type = \"trait_specific\",\n",
    "        stringsAsFactors = FALSE\n",
    "      )\n",
    "      \n",
    "      trait_specific_cs[[i]] <- cs_df\n",
    "    }\n",
    "  }\n",
    "  \n",
    "  # Extract trait-shared credible sets (CoS)\n",
    "  if (!is.null(colocboost_result$cos_details)) {\n",
    "    cos_variables <- colocboost_result$cos_details$cos$cos_variables\n",
    "    cos_outcomes <- colocboost_result$cos_details$cos_outcomes$outcome_index\n",
    "    cos_weights <- colocboost_result$cos_details$cos_vcp\n",
    "    \n",
    "    for (i in seq_along(cos_variables)) {\n",
    "      cs_name <- names(cos_variables)[i]\n",
    "      variants <- cos_variables[[i]]\n",
    "      outcome_indices <- cos_outcomes[[i]]\n",
    "      \n",
    "      # Extract phenotype names for all outcomes in this CoS\n",
    "      phenotype_names <- colocboost_result$data_info$outcome_info$outcome_names\n",
    "      phenotype_ids <- phenotype_names[outcome_indices]\n",
    "      \n",
    "      # Get all variant names to match PIP values\n",
    "      all_variants <- colocboost_result$data_info$variables\n",
    "      \n",
    "      # Extract PIP values for these specific variants\n",
    "      variant_indices <- match(variants, all_variants)\n",
    "      pip_values <- cos_weights[[i]][variant_indices]\n",
    "      \n",
    "      # For each variant, get -log10(p-value) for each outcome\n",
    "      variant_neg_log10_p_values_list <- list()\n",
    "      for (v in seq_along(variants)) {\n",
    "        variant_neg_log10_p_values <- c()\n",
    "        for (j in seq_along(outcome_indices)) {\n",
    "          outcome_idx <- outcome_indices[j]\n",
    "          z_scores <- colocboost_result$data_info$z[[outcome_idx]][variant_indices]\n",
    "          neg_log10_p_values <- -log10(2 * pnorm(-abs(z_scores)))\n",
    "          variant_neg_log10_p_values <- c(variant_neg_log10_p_values, neg_log10_p_values[v])\n",
    "        }\n",
    "        variant_neg_log10_p_values_list[[v]] <- variant_neg_log10_p_values\n",
    "      }\n",
    "      \n",
    "      # Create dataframe for this credible set\n",
    "      cs_df <- data.frame(\n",
    "        phenotype_id = rep(paste(phenotype_ids, collapse = \",\"), length(variants)),\n",
    "        variant_id = variants,\n",
    "        pip = pip_values,\n",
    "        neg_log10_p_value = I(variant_neg_log10_p_values_list),\n",
    "        cs_id = rep(cs_name, length(variants)),\n",
    "        cs_type = \"trait_shared\",\n",
    "        stringsAsFactors = FALSE\n",
    "      )\n",
    "      \n",
    "      trait_shared_cs[[i]] <- cs_df\n",
    "    }\n",
    "  }\n",
    "  \n",
    "  # Combine all credible sets\n",
    "  all_cs <- c(trait_specific_cs, trait_shared_cs)\n",
    "  \n",
    "  if (length(all_cs) > 0) {\n",
    "    result_df <- do.call(rbind, all_cs)\n",
    "    return(result_df)\n",
    "  } else {\n",
    "    return(data.frame(\n",
    "      phenotype_id = character(0),\n",
    "      variant_id = character(0),\n",
    "      pip = numeric(0),\n",
    "      neg_log10_p_value = list(),\n",
    "      cs_id = character(0),\n",
    "      cs_type = character(0),\n",
    "      stringsAsFactors = FALSE\n",
    "    ))\n",
    "  }\n",
    "}\n",
    "\n",
    "# Extract credible sets from all_genes results (using the xqtl_coloc component)\n",
    "all_genes_colocboost <- all_genes_res[[1]]\n",
    "all_genes_cs <- extract_credible_sets(all_genes_colocboost)\n",
    "\n",
    "print(\"All genes credible sets:\")\n",
    "print(head(all_genes_cs))\n",
    "print(paste(\"Total credible sets:\", length(unique(all_genes_cs$cs_id))))\n",
    "print(paste(\"Trait-specific credible sets (uCoS):\", length(unique(all_genes_cs$cs_id[all_genes_cs$cs_type == \"trait_specific\"]))))\n",
    "print(paste(\"Trait-shared credible sets (CoS):\", length(unique(all_genes_cs$cs_id[all_genes_cs$cs_type == \"trait_shared\"]))))\n",
    "# Extract credible sets from v39_genes results  \n",
    "v39_genes_colocboost <- v39_genes_res[[1]]\n",
    "v39_genes_cs <- extract_credible_sets(v39_genes_colocboost)\n",
    "\n",
    "print(\"\\nV39 genes credible sets:\")\n",
    "print(head(v39_genes_cs))\n",
    "print(paste(\"Total credible sets:\", length(unique(v39_genes_cs$cs_id))))\n",
    "print(paste(\"Trait-specific credible sets (uCoS):\", length(unique(v39_genes_cs$cs_id[v39_genes_cs$cs_type == \"trait_specific\"]))))\n",
    "print(paste(\"Trait-shared credible sets (CoS):\", length(unique(v39_genes_cs$cs_id[v39_genes_cs$cs_type == \"trait_shared\"]))))\n"
   ]
  },
  {
   "cell_type": "code",
   "execution_count": null,
   "id": "bafbf12e",
   "metadata": {
    "vscode": {
     "languageId": "r"
    }
   },
   "outputs": [
    {
     "name": "stdout",
     "output_type": "stream",
     "text": [
      "[1] \"Number of unique variants in v39_genes_cs: 87\"\n",
      "[1] \"Number of unique credible sets in all_genes_cs: 18\"\n",
      "[1] \"Number of credible sets to exclude: 11\"\n",
      "[1] \"Credible sets to exclude:\"\n",
      " [1] \"ucos11:y17\"           \"ucos20:y41\"           \"cos1:y70_y71\"        \n",
      " [4] \"cos3:y7_y8\"           \"cos4:y5_y7_y8_y20\"    \"cos5:y37_y51\"        \n",
      " [7] \"cos6:y18_y19_y20_y38\" \"cos8:y43_y62_y73\"     \"cos10:y20_y70_y71\"   \n",
      "[10] \"cos13:y27_y28_y29\"    \"cos14:y28_y29\"       \n",
      "[1] \"Number of rows in filtered all_genes_cs: 15\"\n",
      "[1] \"Number of unique credible sets in filtered data: 7\"\n",
      "[1] \"Number of trait-specific credible sets (uCoS) in filtered data: 0\"\n",
      "[1] \"Number of trait-shared credible sets (CoS) in filtered data: 7\"\n",
      "[1] \"\\nFiltered credible sets:\"\n",
      "[1] \"cos2:y23_y82\"       \"cos7:y31_y34_y37\"   \"cos9:y1_y61_y97\"   \n",
      "[4] \"cos11:y19_y102\"     \"cos12:y35_y36\"      \"cos15:y3_y4:merged\"\n",
      "[7] \"cos16:y3_y4:merged\"\n"
     ]
    },
    {
     "data": {
      "text/html": [
       "<table class=\"dataframe\">\n",
       "<caption>A data.frame: 15 × 6</caption>\n",
       "<thead>\n",
       "\t<tr><th></th><th scope=col>phenotype_id</th><th scope=col>variant_id</th><th scope=col>pip</th><th scope=col>neg_log10_p_value</th><th scope=col>cs_id</th><th scope=col>cs_type</th></tr>\n",
       "\t<tr><th></th><th scope=col>&lt;chr&gt;</th><th scope=col>&lt;chr&gt;</th><th scope=col>&lt;dbl&gt;</th><th scope=col>&lt;list&gt;</th><th scope=col>&lt;chr&gt;</th><th scope=col>&lt;chr&gt;</th></tr>\n",
       "</thead>\n",
       "<tbody>\n",
       "\t<tr><th scope=row>8</th><td>Adipose_Subcutaneous.ENSG00000297224.1,Adipose_Subcutaneous.ENSG00000228594.4                                         </td><td>chr1:1134712:G:T:b38</td><td>0.97711699</td><td>4.279781, 4.822464</td><td>cos2:y23_y82      </td><td>trait_shared</td></tr>\n",
       "\t<tr><th scope=row>59</th><td>Adipose_Subcutaneous.ENSG00000272512.1,Adipose_Subcutaneous.ENSG00000187608.10,Adipose_Subcutaneous.ENSG00000188157.16</td><td>chr1:995371:C:G:b38 </td><td>0.54586709</td><td>76.709872, 9.671171, 14.237908</td><td>cos7:y31_y34_y37  </td><td>trait_shared</td></tr>\n",
       "\t<tr><th scope=row>60</th><td>Adipose_Subcutaneous.ENSG00000272512.1,Adipose_Subcutaneous.ENSG00000187608.10,Adipose_Subcutaneous.ENSG00000188157.16</td><td>chr1:995153:C:G:b38 </td><td>0.18233783</td><td>77.85543, 10.22310, 12.71399</td><td>cos7:y31_y34_y37  </td><td>trait_shared</td></tr>\n",
       "\t<tr><th scope=row>61</th><td>Adipose_Subcutaneous.ENSG00000272512.1,Adipose_Subcutaneous.ENSG00000187608.10,Adipose_Subcutaneous.ENSG00000188157.16</td><td>chr1:995982:G:A:b38 </td><td>0.16805050</td><td>79.775155, 8.826491, 13.023182</td><td>cos7:y31_y34_y37  </td><td>trait_shared</td></tr>\n",
       "\t<tr><th scope=row>62</th><td>Adipose_Subcutaneous.ENSG00000272512.1,Adipose_Subcutaneous.ENSG00000187608.10,Adipose_Subcutaneous.ENSG00000188157.16</td><td>chr1:995187:A:G:b38 </td><td>0.06600336</td><td>75.75045, 10.23273, 12.64426</td><td>cos7:y31_y34_y37  </td><td>trait_shared</td></tr>\n",
       "\t<tr><th scope=row>69</th><td>Adipose_Subcutaneous.ENSG00000310526.1,Adipose_Subcutaneous.ENSG00000304860.1,Adipose_Subcutaneous.ENSG00000008130.15 </td><td>chr1:634553:G:A:b38 </td><td>0.82758384</td><td>2.549748, 3.360490, 2.987133</td><td>cos9:y1_y61_y97   </td><td>trait_shared</td></tr>\n",
       "\t<tr><th scope=row>70</th><td>Adipose_Subcutaneous.ENSG00000310526.1,Adipose_Subcutaneous.ENSG00000304860.1,Adipose_Subcutaneous.ENSG00000008130.15 </td><td>chr1:625776:T:G:b38 </td><td>0.13442579</td><td>3.567115, 2.851089, 1.841342</td><td>cos9:y1_y61_y97   </td><td>trait_shared</td></tr>\n",
       "\t<tr><th scope=row>73</th><td>Adipose_Subcutaneous.ENSG00000177757.3,Adipose_Subcutaneous.ENSG00000178821.13                                        </td><td>chr1:727034:C:T:b38 </td><td>0.81098733</td><td>4.887385, 2.610897</td><td>cos11:y19_y102    </td><td>trait_shared</td></tr>\n",
       "\t<tr><th scope=row>74</th><td>Adipose_Subcutaneous.ENSG00000177757.3,Adipose_Subcutaneous.ENSG00000178821.13                                        </td><td>chr1:727477:G:A:b38 </td><td>0.09223768</td><td>3.416091, 2.724539</td><td>cos11:y19_y102    </td><td>trait_shared</td></tr>\n",
       "\t<tr><th scope=row>75</th><td>Adipose_Subcutaneous.ENSG00000177757.3,Adipose_Subcutaneous.ENSG00000178821.13                                        </td><td>chr1:727717:G:C:b38 </td><td>0.06468675</td><td>3.310691, 2.700570</td><td>cos11:y19_y102    </td><td>trait_shared</td></tr>\n",
       "\t<tr><th scope=row>76</th><td>Adipose_Subcutaneous.ENSG00000303614.1,Adipose_Subcutaneous.ENSG00000224969.1                                         </td><td>chr1:979496:T:C:b38 </td><td>0.76936504</td><td>23.834877, 4.985105</td><td>cos12:y35_y36     </td><td>trait_shared</td></tr>\n",
       "\t<tr><th scope=row>77</th><td>Adipose_Subcutaneous.ENSG00000303614.1,Adipose_Subcutaneous.ENSG00000224969.1                                         </td><td>chr1:1002736:T:G:b38</td><td>0.11185343</td><td>31.301099, 4.812182</td><td>cos12:y35_y36     </td><td>trait_shared</td></tr>\n",
       "\t<tr><th scope=row>78</th><td>Adipose_Subcutaneous.ENSG00000303614.1,Adipose_Subcutaneous.ENSG00000224969.1                                         </td><td>chr1:1002308:T:C:b38</td><td>0.08265635</td><td>32.056322, 4.482749</td><td>cos12:y35_y36     </td><td>trait_shared</td></tr>\n",
       "\t<tr><th scope=row>107</th><td>Adipose_Subcutaneous.ENSG00000308579.1,Adipose_Subcutaneous.ENSG00000269981.1                                         </td><td>chr1:1010816:C:T:b38</td><td>0.99962800</td><td>4.604637, 4.197258</td><td>cos15:y3_y4:merged</td><td>trait_shared</td></tr>\n",
       "\t<tr><th scope=row>108</th><td>Adipose_Subcutaneous.ENSG00000308579.1,Adipose_Subcutaneous.ENSG00000269981.1                                         </td><td>chr1:135203:G:A:b38 </td><td>0.99520655</td><td>3.913938, 3.831992</td><td>cos16:y3_y4:merged</td><td>trait_shared</td></tr>\n",
       "</tbody>\n",
       "</table>\n"
      ],
      "text/latex": [
       "A data.frame: 15 × 6\n",
       "\\begin{tabular}{r|llllll}\n",
       "  & phenotype\\_id & variant\\_id & pip & neg\\_log10\\_p\\_value & cs\\_id & cs\\_type\\\\\n",
       "  & <chr> & <chr> & <dbl> & <list> & <chr> & <chr>\\\\\n",
       "\\hline\n",
       "\t8 & Adipose\\_Subcutaneous.ENSG00000297224.1,Adipose\\_Subcutaneous.ENSG00000228594.4                                          & chr1:1134712:G:T:b38 & 0.97711699 & 4.279781, 4.822464 & cos2:y23\\_y82       & trait\\_shared\\\\\n",
       "\t59 & Adipose\\_Subcutaneous.ENSG00000272512.1,Adipose\\_Subcutaneous.ENSG00000187608.10,Adipose\\_Subcutaneous.ENSG00000188157.16 & chr1:995371:C:G:b38  & 0.54586709 & 76.709872, 9.671171, 14.237908 & cos7:y31\\_y34\\_y37   & trait\\_shared\\\\\n",
       "\t60 & Adipose\\_Subcutaneous.ENSG00000272512.1,Adipose\\_Subcutaneous.ENSG00000187608.10,Adipose\\_Subcutaneous.ENSG00000188157.16 & chr1:995153:C:G:b38  & 0.18233783 & 77.85543, 10.22310, 12.71399 & cos7:y31\\_y34\\_y37   & trait\\_shared\\\\\n",
       "\t61 & Adipose\\_Subcutaneous.ENSG00000272512.1,Adipose\\_Subcutaneous.ENSG00000187608.10,Adipose\\_Subcutaneous.ENSG00000188157.16 & chr1:995982:G:A:b38  & 0.16805050 & 79.775155, 8.826491, 13.023182 & cos7:y31\\_y34\\_y37   & trait\\_shared\\\\\n",
       "\t62 & Adipose\\_Subcutaneous.ENSG00000272512.1,Adipose\\_Subcutaneous.ENSG00000187608.10,Adipose\\_Subcutaneous.ENSG00000188157.16 & chr1:995187:A:G:b38  & 0.06600336 & 75.75045, 10.23273, 12.64426 & cos7:y31\\_y34\\_y37   & trait\\_shared\\\\\n",
       "\t69 & Adipose\\_Subcutaneous.ENSG00000310526.1,Adipose\\_Subcutaneous.ENSG00000304860.1,Adipose\\_Subcutaneous.ENSG00000008130.15  & chr1:634553:G:A:b38  & 0.82758384 & 2.549748, 3.360490, 2.987133 & cos9:y1\\_y61\\_y97    & trait\\_shared\\\\\n",
       "\t70 & Adipose\\_Subcutaneous.ENSG00000310526.1,Adipose\\_Subcutaneous.ENSG00000304860.1,Adipose\\_Subcutaneous.ENSG00000008130.15  & chr1:625776:T:G:b38  & 0.13442579 & 3.567115, 2.851089, 1.841342 & cos9:y1\\_y61\\_y97    & trait\\_shared\\\\\n",
       "\t73 & Adipose\\_Subcutaneous.ENSG00000177757.3,Adipose\\_Subcutaneous.ENSG00000178821.13                                         & chr1:727034:C:T:b38  & 0.81098733 & 4.887385, 2.610897 & cos11:y19\\_y102     & trait\\_shared\\\\\n",
       "\t74 & Adipose\\_Subcutaneous.ENSG00000177757.3,Adipose\\_Subcutaneous.ENSG00000178821.13                                         & chr1:727477:G:A:b38  & 0.09223768 & 3.416091, 2.724539 & cos11:y19\\_y102     & trait\\_shared\\\\\n",
       "\t75 & Adipose\\_Subcutaneous.ENSG00000177757.3,Adipose\\_Subcutaneous.ENSG00000178821.13                                         & chr1:727717:G:C:b38  & 0.06468675 & 3.310691, 2.700570 & cos11:y19\\_y102     & trait\\_shared\\\\\n",
       "\t76 & Adipose\\_Subcutaneous.ENSG00000303614.1,Adipose\\_Subcutaneous.ENSG00000224969.1                                          & chr1:979496:T:C:b38  & 0.76936504 & 23.834877, 4.985105 & cos12:y35\\_y36      & trait\\_shared\\\\\n",
       "\t77 & Adipose\\_Subcutaneous.ENSG00000303614.1,Adipose\\_Subcutaneous.ENSG00000224969.1                                          & chr1:1002736:T:G:b38 & 0.11185343 & 31.301099, 4.812182 & cos12:y35\\_y36      & trait\\_shared\\\\\n",
       "\t78 & Adipose\\_Subcutaneous.ENSG00000303614.1,Adipose\\_Subcutaneous.ENSG00000224969.1                                          & chr1:1002308:T:C:b38 & 0.08265635 & 32.056322, 4.482749 & cos12:y35\\_y36      & trait\\_shared\\\\\n",
       "\t107 & Adipose\\_Subcutaneous.ENSG00000308579.1,Adipose\\_Subcutaneous.ENSG00000269981.1                                          & chr1:1010816:C:T:b38 & 0.99962800 & 4.604637, 4.197258 & cos15:y3\\_y4:merged & trait\\_shared\\\\\n",
       "\t108 & Adipose\\_Subcutaneous.ENSG00000308579.1,Adipose\\_Subcutaneous.ENSG00000269981.1                                          & chr1:135203:G:A:b38  & 0.99520655 & 3.913938, 3.831992 & cos16:y3\\_y4:merged & trait\\_shared\\\\\n",
       "\\end{tabular}\n"
      ],
      "text/markdown": [
       "\n",
       "A data.frame: 15 × 6\n",
       "\n",
       "| <!--/--> | phenotype_id &lt;chr&gt; | variant_id &lt;chr&gt; | pip &lt;dbl&gt; | neg_log10_p_value &lt;list&gt; | cs_id &lt;chr&gt; | cs_type &lt;chr&gt; |\n",
       "|---|---|---|---|---|---|---|\n",
       "| 8 | Adipose_Subcutaneous.ENSG00000297224.1,Adipose_Subcutaneous.ENSG00000228594.4                                          | chr1:1134712:G:T:b38 | 0.97711699 | 4.279781, 4.822464 | cos2:y23_y82       | trait_shared |\n",
       "| 59 | Adipose_Subcutaneous.ENSG00000272512.1,Adipose_Subcutaneous.ENSG00000187608.10,Adipose_Subcutaneous.ENSG00000188157.16 | chr1:995371:C:G:b38  | 0.54586709 | 76.709872, 9.671171, 14.237908 | cos7:y31_y34_y37   | trait_shared |\n",
       "| 60 | Adipose_Subcutaneous.ENSG00000272512.1,Adipose_Subcutaneous.ENSG00000187608.10,Adipose_Subcutaneous.ENSG00000188157.16 | chr1:995153:C:G:b38  | 0.18233783 | 77.85543, 10.22310, 12.71399 | cos7:y31_y34_y37   | trait_shared |\n",
       "| 61 | Adipose_Subcutaneous.ENSG00000272512.1,Adipose_Subcutaneous.ENSG00000187608.10,Adipose_Subcutaneous.ENSG00000188157.16 | chr1:995982:G:A:b38  | 0.16805050 | 79.775155, 8.826491, 13.023182 | cos7:y31_y34_y37   | trait_shared |\n",
       "| 62 | Adipose_Subcutaneous.ENSG00000272512.1,Adipose_Subcutaneous.ENSG00000187608.10,Adipose_Subcutaneous.ENSG00000188157.16 | chr1:995187:A:G:b38  | 0.06600336 | 75.75045, 10.23273, 12.64426 | cos7:y31_y34_y37   | trait_shared |\n",
       "| 69 | Adipose_Subcutaneous.ENSG00000310526.1,Adipose_Subcutaneous.ENSG00000304860.1,Adipose_Subcutaneous.ENSG00000008130.15  | chr1:634553:G:A:b38  | 0.82758384 | 2.549748, 3.360490, 2.987133 | cos9:y1_y61_y97    | trait_shared |\n",
       "| 70 | Adipose_Subcutaneous.ENSG00000310526.1,Adipose_Subcutaneous.ENSG00000304860.1,Adipose_Subcutaneous.ENSG00000008130.15  | chr1:625776:T:G:b38  | 0.13442579 | 3.567115, 2.851089, 1.841342 | cos9:y1_y61_y97    | trait_shared |\n",
       "| 73 | Adipose_Subcutaneous.ENSG00000177757.3,Adipose_Subcutaneous.ENSG00000178821.13                                         | chr1:727034:C:T:b38  | 0.81098733 | 4.887385, 2.610897 | cos11:y19_y102     | trait_shared |\n",
       "| 74 | Adipose_Subcutaneous.ENSG00000177757.3,Adipose_Subcutaneous.ENSG00000178821.13                                         | chr1:727477:G:A:b38  | 0.09223768 | 3.416091, 2.724539 | cos11:y19_y102     | trait_shared |\n",
       "| 75 | Adipose_Subcutaneous.ENSG00000177757.3,Adipose_Subcutaneous.ENSG00000178821.13                                         | chr1:727717:G:C:b38  | 0.06468675 | 3.310691, 2.700570 | cos11:y19_y102     | trait_shared |\n",
       "| 76 | Adipose_Subcutaneous.ENSG00000303614.1,Adipose_Subcutaneous.ENSG00000224969.1                                          | chr1:979496:T:C:b38  | 0.76936504 | 23.834877, 4.985105 | cos12:y35_y36      | trait_shared |\n",
       "| 77 | Adipose_Subcutaneous.ENSG00000303614.1,Adipose_Subcutaneous.ENSG00000224969.1                                          | chr1:1002736:T:G:b38 | 0.11185343 | 31.301099, 4.812182 | cos12:y35_y36      | trait_shared |\n",
       "| 78 | Adipose_Subcutaneous.ENSG00000303614.1,Adipose_Subcutaneous.ENSG00000224969.1                                          | chr1:1002308:T:C:b38 | 0.08265635 | 32.056322, 4.482749 | cos12:y35_y36      | trait_shared |\n",
       "| 107 | Adipose_Subcutaneous.ENSG00000308579.1,Adipose_Subcutaneous.ENSG00000269981.1                                          | chr1:1010816:C:T:b38 | 0.99962800 | 4.604637, 4.197258 | cos15:y3_y4:merged | trait_shared |\n",
       "| 108 | Adipose_Subcutaneous.ENSG00000308579.1,Adipose_Subcutaneous.ENSG00000269981.1                                          | chr1:135203:G:A:b38  | 0.99520655 | 3.913938, 3.831992 | cos16:y3_y4:merged | trait_shared |\n",
       "\n"
      ],
      "text/plain": [
       "    phenotype_id                                                                                                          \n",
       "8   Adipose_Subcutaneous.ENSG00000297224.1,Adipose_Subcutaneous.ENSG00000228594.4                                         \n",
       "59  Adipose_Subcutaneous.ENSG00000272512.1,Adipose_Subcutaneous.ENSG00000187608.10,Adipose_Subcutaneous.ENSG00000188157.16\n",
       "60  Adipose_Subcutaneous.ENSG00000272512.1,Adipose_Subcutaneous.ENSG00000187608.10,Adipose_Subcutaneous.ENSG00000188157.16\n",
       "61  Adipose_Subcutaneous.ENSG00000272512.1,Adipose_Subcutaneous.ENSG00000187608.10,Adipose_Subcutaneous.ENSG00000188157.16\n",
       "62  Adipose_Subcutaneous.ENSG00000272512.1,Adipose_Subcutaneous.ENSG00000187608.10,Adipose_Subcutaneous.ENSG00000188157.16\n",
       "69  Adipose_Subcutaneous.ENSG00000310526.1,Adipose_Subcutaneous.ENSG00000304860.1,Adipose_Subcutaneous.ENSG00000008130.15 \n",
       "70  Adipose_Subcutaneous.ENSG00000310526.1,Adipose_Subcutaneous.ENSG00000304860.1,Adipose_Subcutaneous.ENSG00000008130.15 \n",
       "73  Adipose_Subcutaneous.ENSG00000177757.3,Adipose_Subcutaneous.ENSG00000178821.13                                        \n",
       "74  Adipose_Subcutaneous.ENSG00000177757.3,Adipose_Subcutaneous.ENSG00000178821.13                                        \n",
       "75  Adipose_Subcutaneous.ENSG00000177757.3,Adipose_Subcutaneous.ENSG00000178821.13                                        \n",
       "76  Adipose_Subcutaneous.ENSG00000303614.1,Adipose_Subcutaneous.ENSG00000224969.1                                         \n",
       "77  Adipose_Subcutaneous.ENSG00000303614.1,Adipose_Subcutaneous.ENSG00000224969.1                                         \n",
       "78  Adipose_Subcutaneous.ENSG00000303614.1,Adipose_Subcutaneous.ENSG00000224969.1                                         \n",
       "107 Adipose_Subcutaneous.ENSG00000308579.1,Adipose_Subcutaneous.ENSG00000269981.1                                         \n",
       "108 Adipose_Subcutaneous.ENSG00000308579.1,Adipose_Subcutaneous.ENSG00000269981.1                                         \n",
       "    variant_id           pip        neg_log10_p_value             \n",
       "8   chr1:1134712:G:T:b38 0.97711699 4.279781, 4.822464            \n",
       "59  chr1:995371:C:G:b38  0.54586709 76.709872, 9.671171, 14.237908\n",
       "60  chr1:995153:C:G:b38  0.18233783 77.85543, 10.22310, 12.71399  \n",
       "61  chr1:995982:G:A:b38  0.16805050 79.775155, 8.826491, 13.023182\n",
       "62  chr1:995187:A:G:b38  0.06600336 75.75045, 10.23273, 12.64426  \n",
       "69  chr1:634553:G:A:b38  0.82758384 2.549748, 3.360490, 2.987133  \n",
       "70  chr1:625776:T:G:b38  0.13442579 3.567115, 2.851089, 1.841342  \n",
       "73  chr1:727034:C:T:b38  0.81098733 4.887385, 2.610897            \n",
       "74  chr1:727477:G:A:b38  0.09223768 3.416091, 2.724539            \n",
       "75  chr1:727717:G:C:b38  0.06468675 3.310691, 2.700570            \n",
       "76  chr1:979496:T:C:b38  0.76936504 23.834877, 4.985105           \n",
       "77  chr1:1002736:T:G:b38 0.11185343 31.301099, 4.812182           \n",
       "78  chr1:1002308:T:C:b38 0.08265635 32.056322, 4.482749           \n",
       "107 chr1:1010816:C:T:b38 0.99962800 4.604637, 4.197258            \n",
       "108 chr1:135203:G:A:b38  0.99520655 3.913938, 3.831992            \n",
       "    cs_id              cs_type     \n",
       "8   cos2:y23_y82       trait_shared\n",
       "59  cos7:y31_y34_y37   trait_shared\n",
       "60  cos7:y31_y34_y37   trait_shared\n",
       "61  cos7:y31_y34_y37   trait_shared\n",
       "62  cos7:y31_y34_y37   trait_shared\n",
       "69  cos9:y1_y61_y97    trait_shared\n",
       "70  cos9:y1_y61_y97    trait_shared\n",
       "73  cos11:y19_y102     trait_shared\n",
       "74  cos11:y19_y102     trait_shared\n",
       "75  cos11:y19_y102     trait_shared\n",
       "76  cos12:y35_y36      trait_shared\n",
       "77  cos12:y35_y36      trait_shared\n",
       "78  cos12:y35_y36      trait_shared\n",
       "107 cos15:y3_y4:merged trait_shared\n",
       "108 cos16:y3_y4:merged trait_shared"
      ]
     },
     "metadata": {},
     "output_type": "display_data"
    }
   ],
   "source": [
    "# Subset all_genes_cs to exclude credible sets where ANY variant appears in v39_genes_cs\n",
    "# Get all variants from v39_genes_cs\n",
    "v39_variants <- unique(v39_genes_cs$variant_id)\n",
    "print(paste(\"Number of unique variants in v39_genes_cs:\", length(v39_variants)))\n",
    "\n",
    "# Get all unique credible set IDs from all_genes_cs\n",
    "all_genes_cs_ids <- unique(all_genes_cs$cs_id)\n",
    "print(paste(\"Number of unique credible sets in all_genes_cs:\", length(all_genes_cs_ids)))\n",
    "\n",
    "# For each credible set in all_genes_cs, check if ANY of its variants are in v39_genes_cs\n",
    "credible_sets_to_exclude <- c()\n",
    "\n",
    "for (cs_id in all_genes_cs_ids) {\n",
    "  # Get all variants for this credible set\n",
    "  cs_variants <- all_genes_cs$variant_id[all_genes_cs$cs_id == cs_id]\n",
    "  \n",
    "  # Check if any of these variants are in v39_genes_cs\n",
    "  if (any(cs_variants %in% v39_variants)) {\n",
    "    credible_sets_to_exclude <- c(credible_sets_to_exclude, cs_id)\n",
    "  }\n",
    "}\n",
    "\n",
    "print(paste(\"Number of credible sets to exclude:\", length(credible_sets_to_exclude)))\n",
    "print(\"Credible sets to exclude:\")\n",
    "print(credible_sets_to_exclude)\n",
    "\n",
    "# Filter all_genes_cs to exclude credible sets that have any variants in v39_genes_cs\n",
    "all_genes_cs_filtered <- all_genes_cs[!all_genes_cs$cs_id %in% credible_sets_to_exclude, ]\n",
    "\n",
    "print(paste(\"Number of rows in filtered all_genes_cs:\", nrow(all_genes_cs_filtered)))\n",
    "print(paste(\"Number of unique credible sets in filtered data:\", length(unique(all_genes_cs_filtered$cs_id))))\n",
    "print(paste(\"Number of trait-specific credible sets (uCoS) in filtered data:\", \n",
    "            length(unique(all_genes_cs_filtered$cs_id[all_genes_cs_filtered$cs_type == \"trait_specific\"]))))\n",
    "print(paste(\"Number of trait-shared credible sets (CoS) in filtered data:\", \n",
    "            length(unique(all_genes_cs_filtered$cs_id[all_genes_cs_filtered$cs_type == \"trait_shared\"]))))\n",
    "\n",
    "# Show the filtered results\n",
    "print(\"\\nFiltered credible sets:\")\n",
    "print(unique(all_genes_cs_filtered$cs_id))\n",
    "\n",
    "all_genes_cs_filtered\n"
   ]
  },
  {
   "cell_type": "code",
   "execution_count": null,
   "id": "c021452b",
   "metadata": {
    "vscode": {
     "languageId": "r"
    }
   },
   "outputs": [],
   "source": []
  }
 ],
 "metadata": {
  "kernelspec": {
   "display_name": "R",
   "language": "R",
   "name": "ir"
  },
  "language_info": {
   "name": "R"
  }
 },
 "nbformat": 4,
 "nbformat_minor": 5
}
