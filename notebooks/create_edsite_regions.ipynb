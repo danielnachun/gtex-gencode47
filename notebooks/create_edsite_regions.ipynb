{
 "cells": [
  {
   "cell_type": "markdown",
   "metadata": {},
   "source": [
    "# call edsites in all regions that are\n",
    "1. in a gene\n",
    "2. not within 4bp of a splice junction\n",
    "3. not in homopolymer run of 5+ bp\n",
    "4. not in simple repeats (I use the excluderanges(https://dozmorovlab.github.io/excluderanges/articles/excluderanges.html) list to achive something similar)"
   ]
  },
  {
   "cell_type": "code",
   "execution_count": 1,
   "metadata": {},
   "outputs": [
    {
     "name": "stderr",
     "output_type": "stream",
     "text": [
      "/home/klawren/.pixi/envs/python/lib/python3.12/site-packages/sorted_nearest/__init__.py:1: UserWarning: pkg_resources is deprecated as an API. See https://setuptools.pypa.io/en/latest/pkg_resources.html. The pkg_resources package is slated for removal as early as 2025-11-30. Refrain from using this package or pin to Setuptools<81.\n",
      "  import pkg_resources\n"
     ]
    }
   ],
   "source": [
    "import pandas as pd\n",
    "import pyranges as pr\n",
    "import re\n",
    "from tqdm.notebook import tqdm\n",
    "import numpy as np"
   ]
  },
  {
   "cell_type": "markdown",
   "metadata": {},
   "source": [
    "make the merged gene regions with `/home/klawren/oak/gtex/scripts/analysis/create_hc_gene_intervals.sh`\n",
    "\n",
    "here I make the regions to remove"
   ]
  },
  {
   "cell_type": "code",
   "execution_count": null,
   "metadata": {},
   "outputs": [],
   "source": [
    "# load in gencode 47 gtf\n",
    "gencode_v47_path = \"/home/klawren/oak/gtex/data/realign_references/gencode.v47.annotation.gtf\"\n",
    "gencode_v47=pr.read_gtf(gencode_v47_path)\n",
    "gencode_v47_df = gencode_v47.as_df()"
   ]
  },
  {
   "cell_type": "code",
   "execution_count": null,
   "metadata": {},
   "outputs": [
    {
     "name": "stderr",
     "output_type": "stream",
     "text": [
      "/local/scratch/klawren/slrmtmp.48466672/ipykernel_3940/2723239820.py:7: SettingWithCopyWarning: \n",
      "A value is trying to be set on a copy of a slice from a DataFrame.\n",
      "Try using .loc[row_indexer,col_indexer] = value instead\n",
      "\n",
      "See the caveats in the documentation: https://pandas.pydata.org/pandas-docs/stable/user_guide/indexing.html#returning-a-view-versus-a-copy\n",
      "  splice_sites_exon_starts['End'] = splice_sites_exon_starts['Start'] + 4\n",
      "/local/scratch/klawren/slrmtmp.48466672/ipykernel_3940/2723239820.py:8: SettingWithCopyWarning: \n",
      "A value is trying to be set on a copy of a slice from a DataFrame.\n",
      "Try using .loc[row_indexer,col_indexer] = value instead\n",
      "\n",
      "See the caveats in the documentation: https://pandas.pydata.org/pandas-docs/stable/user_guide/indexing.html#returning-a-view-versus-a-copy\n",
      "  splice_sites_exon_starts['Start'] = splice_sites_exon_starts['Start'] - 4\n",
      "/local/scratch/klawren/slrmtmp.48466672/ipykernel_3940/2723239820.py:11: SettingWithCopyWarning: \n",
      "A value is trying to be set on a copy of a slice from a DataFrame.\n",
      "Try using .loc[row_indexer,col_indexer] = value instead\n",
      "\n",
      "See the caveats in the documentation: https://pandas.pydata.org/pandas-docs/stable/user_guide/indexing.html#returning-a-view-versus-a-copy\n",
      "  splice_sites_exon_ends['Start'] = splice_sites_exon_ends['End'] - 4\n",
      "/local/scratch/klawren/slrmtmp.48466672/ipykernel_3940/2723239820.py:12: SettingWithCopyWarning: \n",
      "A value is trying to be set on a copy of a slice from a DataFrame.\n",
      "Try using .loc[row_indexer,col_indexer] = value instead\n",
      "\n",
      "See the caveats in the documentation: https://pandas.pydata.org/pandas-docs/stable/user_guide/indexing.html#returning-a-view-versus-a-copy\n",
      "  splice_sites_exon_ends['End'] = splice_sites_exon_ends['End'] + 4\n"
     ]
    }
   ],
   "source": [
    "# pull out all exons, the creat cresion of +- 4 around the junctions between exons\n",
    "exons = gencode_v47_df[gencode_v47_df['Feature'] =='exon']\n",
    "max_exon_number = exons.groupby('gene_id').agg({'exon_number':'max'})\n",
    "exons = pd.merge(exons, max_exon_number, on='gene_id', how='left', suffixes=['', '_max'])\n",
    "\n",
    "\n",
    "splice_sites_exon_starts = exons[['Chromosome' ,'Start', 'exon_number', 'exon_number_max']]\n",
    "splice_sites_exon_starts['End'] = splice_sites_exon_starts['Start'] + 4\n",
    "splice_sites_exon_starts['Start'] = splice_sites_exon_starts['Start'] - 4\n",
    "\n",
    "splice_sites_exon_ends = exons[['Chromosome' ,'End', 'exon_number', 'exon_number_max']]\n",
    "splice_sites_exon_ends['Start'] = splice_sites_exon_ends['End'] - 4\n",
    "splice_sites_exon_ends['End'] = splice_sites_exon_ends['End'] + 4\n",
    "\n",
    "# dont pad around the start of the first exon or end of the last exon\n",
    "splice_sites_exon_starts = splice_sites_exon_starts[splice_sites_exon_starts['exon_number'] != 1]\n",
    "splice_sites_exon_ends = splice_sites_exon_ends[splice_sites_exon_ends['exon_number'] != splice_sites_exon_ends['exon_number_max']]\n",
    "\n",
    "splice_site_bed = pd.concat([splice_sites_exon_ends[['Chromosome', 'Start', 'End']], splice_sites_exon_starts[['Chromosome', 'Start', 'End']]])\n",
    "splice_site_bed.to_csv('/home/klawren/oak/gtex/data/edsite_references/gencode.v47.splice_site.bed', sep='\\t', index=None, header=None)"
   ]
  },
  {
   "cell_type": "markdown",
   "metadata": {},
   "source": [
    "pull out any homopolymer runs in the gene regions"
   ]
  },
  {
   "cell_type": "code",
   "execution_count": null,
   "metadata": {},
   "outputs": [],
   "source": [
    "gene_intervals = pr.read_bed(\"/home/klawren/oak/gtex/data/edsite_references/gencode.v47.merged.bed\")\n",
    "gene_intervals_df = gene_intervals.as_df()\n",
    "\n",
    "# pull the sequnece for the intervals\n",
    "gene_interval_seq = pr.get_sequence(gene_intervals, \"/home/klawren/oak/gtex/data/edsite_references/Homo_sapiens_assembly38_noALT_noHLA_noDecoy.fasta\")"
   ]
  },
  {
   "cell_type": "code",
   "execution_count": null,
   "metadata": {},
   "outputs": [
    {
     "data": {
      "application/vnd.jupyter.widget-view+json": {
       "model_id": "95d180038cad4552a32216cec8a24bc0",
       "version_major": 2,
       "version_minor": 0
      },
      "text/plain": [
       "  0%|          | 0/33206 [00:00<?, ?it/s]"
      ]
     },
     "metadata": {},
     "output_type": "display_data"
    }
   ],
   "source": [
    "# find coordinates of homopolymer runs\n",
    "\n",
    "def find_homopolymer(sequence):\n",
    "    pattern = r'([ACTG])\\1{4,}' # run of 5 or more\n",
    "    matches = re.finditer(pattern, sequence)\n",
    "    \n",
    "    indices = []\n",
    "    for match in matches:\n",
    "        start_index = match.start()\n",
    "        end_index = match.end() - 1 \n",
    "        indices.append((start_index, end_index))\n",
    "    return np.asarray(indices)\n",
    "\n",
    "# loop through each gene region\n",
    "homopolymer_runs = []\n",
    "for idx in tqdm(range(len(gene_intervals_df))):\n",
    "    gene_interval = gene_intervals_df.iloc[idx]\n",
    "    run_idxs = find_homopolymer(gene_interval_seq[idx])\n",
    "    if len(run_idxs) > 0:\n",
    "        run_idxs += gene_interval['Start']\n",
    "        run_idxs = pd.DataFrame({'Start':run_idxs[:,0], 'End':run_idxs[:,1]})\n",
    "        run_idxs['Chromosome'] = gene_interval['Chromosome']\n",
    "        homopolymer_runs.append(run_idxs)\n",
    "\n",
    "    \n",
    "# write out\n",
    "pd.concat(homopolymer_runs)[['Chromosome', 'Start', 'End']].to_csv('/home/klawren/oak/gtex/data/edsite_references/gencode.v47.homopolymer_run.bed', sep='\\t', index=None, header=None)"
   ]
  }
 ],
 "metadata": {
  "kernelspec": {
   "display_name": "Python 3 (ipykernel)",
   "language": "python",
   "name": "python3"
  },
  "language_info": {
   "codemirror_mode": {
    "name": "ipython",
    "version": 3
   },
   "file_extension": ".py",
   "mimetype": "text/x-python",
   "name": "python",
   "nbconvert_exporter": "python",
   "pygments_lexer": "ipython3",
   "version": "3.12.11"
  }
 },
 "nbformat": 4,
 "nbformat_minor": 2
}
