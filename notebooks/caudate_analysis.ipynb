{
 "cells": [
  {
   "cell_type": "markdown",
   "metadata": {},
   "source": [
    "### create cuadate sample list"
   ]
  },
  {
   "cell_type": "code",
   "execution_count": 18,
   "metadata": {},
   "outputs": [],
   "source": [
    "import pandas as pd\n",
    "import numpy as np\n",
    "import subprocess\n",
    "import os"
   ]
  },
  {
   "cell_type": "code",
   "execution_count": null,
   "metadata": {},
   "outputs": [],
   "source": [
    "# read in samples\n",
    "samples_df = pd.read_csv('data/other_references/v10/GTEx_Analysis_v10_Annotations_SampleAttributesDS.txt', sep='\\t', index_col=0, low_memory=False)\n",
    "# read in bam files\n",
    "s = subprocess.check_output(\"ls -l data/raw/GTEx_Analysis_2022-06-06_v10_RNAseq_BAM_files/*bam\",  shell=True).decode().strip().split('\\n')[:-1]\n",
    "s = [i.split()[-1] for i in s][1:]\n",
    "\n",
    "# combine in sample tissue info\n",
    "bam_df = pd.DataFrame({'bam_file': s}, index=[os.path.basename(i).split('.')[0] for i in s])\n",
    "bam_df['participant_id'] = bam_df.index.map(lambda x: '-'.join(x.split('-')[:2]))\n",
    "bam_df = bam_df.join(samples_df['SMTSD'])"
   ]
  },
  {
   "cell_type": "code",
   "execution_count": null,
   "metadata": {},
   "outputs": [
    {
     "data": {
      "text/plain": [
       "339"
      ]
     },
     "execution_count": 35,
     "metadata": {},
     "output_type": "execute_result"
    }
   ],
   "source": [
    "# get caudate samples\n",
    "caudate_df = bam_df[bam_df['SMTSD'] == 'Brain - Caudate (basal ganglia)']\n",
    "# write to a text file\n",
    "with open('data/other_references/caudate/caudate_samples.txt', 'w') as f:\n",
    "    for value in caudate_df.index.values:\n",
    "        f.write(f\"{value}\\n\")\n",
    "len(caudate_df) "
   ]
  },
  {
   "cell_type": "code",
   "execution_count": null,
   "metadata": {},
   "outputs": [],
   "source": []
  }
 ],
 "metadata": {
  "kernelspec": {
   "display_name": "Python 3 (ipykernel)",
   "language": "python",
   "name": "python3"
  },
  "language_info": {
   "codemirror_mode": {
    "name": "ipython",
    "version": 3
   },
   "file_extension": ".py",
   "mimetype": "text/x-python",
   "name": "python",
   "nbconvert_exporter": "python",
   "pygments_lexer": "ipython3",
   "version": "3.8.18"
  }
 },
 "nbformat": 4,
 "nbformat_minor": 2
}
