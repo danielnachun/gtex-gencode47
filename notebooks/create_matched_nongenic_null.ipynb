{
 "cells": [
  {
   "cell_type": "markdown",
   "metadata": {},
   "source": [
    "### lncRNAs quantified? realive to background\n",
    "1. construct backgorund gtf\n",
    "2. map reads with rnaseqc\n",
    "3. compare to see if lncRNAs are quantified"
   ]
  },
  {
   "cell_type": "code",
   "execution_count": 22,
   "metadata": {},
   "outputs": [],
   "source": [
    "import pandas as pd\n",
    "import seaborn as sns\n",
    "import pyranges as pr\n",
    "import numpy as np\n",
    "import bisect\n",
    "\n",
    "from tqdm import tqdm\n",
    "tqdm.pandas()"
   ]
  },
  {
   "cell_type": "markdown",
   "metadata": {},
   "source": [
    "#### create background gtf\n",
    "\n",
    "bed files for exons and background are created with `scripts/analysis/create_matched_nongenic_null.sh`"
   ]
  },
  {
   "cell_type": "code",
   "execution_count": 49,
   "metadata": {},
   "outputs": [],
   "source": [
    "exons = pd.read_csv(\"/home/klawren/oak/gtex/data/other_references/nongenic_null/exons_to_match.bed\", sep='\\t', header=None, names=['chr', 'start', 'end', 'exon_id', 'gene_id'])\n",
    "exons['length'] = exons['end'] - exons['start']\n",
    "exons = exons[~exons['chr'].isin(['chrM'])]\n",
    "\n",
    "# if introns are allowed\n",
    "#background = pd.read_csv(\"/home/klawren/oak/gtex/data/other_references/nongenic_null/background_regions.bed\", sep='\\t', header=None, names=['chr', 'start', 'end'])\n",
    "# if introns aren't allowed \n",
    "background = pd.read_csv(\"/home/klawren/oak/gtex/data/other_references/nongenic_null/intergenic_regions.bed\", sep='\\t', header=None, names=['chr', 'start', 'end'])\n",
    "\n",
    "background = background[background['chr'].isin(exons['chr'].unique())]\n",
    "background = background.sort_values(['chr', 'start'])"
   ]
  },
  {
   "cell_type": "code",
   "execution_count": 50,
   "metadata": {},
   "outputs": [],
   "source": [
    "# load in gencode 47 gtf\n",
    "gencode_v47_path = \"/home/klawren/oak/gtex/data/realign_references/gencode.v47.genes.gtf\"\n",
    "gencode_v47=pr.read_gtf(gencode_v47_path)\n",
    "gencode_v47_df = gencode_v47.as_df()\n",
    "gencode_v47_df = gencode_v47_df[~(gencode_v47_df['Chromosome'] == 'chrM')]"
   ]
  },
  {
   "cell_type": "code",
   "execution_count": 12,
   "metadata": {},
   "outputs": [],
   "source": [
    "def get_closest_background(exon, background_starts, background_ends):\n",
    "    exon_length = exon['end'] - exon['start']\n",
    "    idx_right = bisect.bisect_left(background_starts, exon['start'])\n",
    "    # catch index too far left\n",
    "    while idx_right < len(background_starts) and background_starts[idx_right] < exon['start']:\n",
    "        idx_right += 1\n",
    "\n",
    "    idx_left = idx_right - 1\n",
    "    max_iter = len(background_starts)  # Safety limit\n",
    "    iter_count = 0\n",
    "\n",
    "    while iter_count < max_iter:\n",
    "        iter_count += 1\n",
    "        # Try right side\n",
    "        if idx_right < len(background_starts):\n",
    "            right_start, right_end = background_starts[idx_right], background_ends[idx_right]\n",
    "            if right_end - right_start >= exon_length:\n",
    "                return([right_start, right_start + exon_length])\n",
    "        \n",
    "        # Try left side\n",
    "        if idx_left >= 0:\n",
    "            left_start, left_end = background_starts[idx_left], background_ends[idx_left]\n",
    "            if left_end - left_start >= exon_length:\n",
    "                return([left_end-exon_length, left_end])  \n",
    "        \n",
    "        idx_right += 1\n",
    "        idx_left -= 1"
   ]
  },
  {
   "cell_type": "code",
   "execution_count": 13,
   "metadata": {},
   "outputs": [
    {
     "name": "stdout",
     "output_type": "stream",
     "text": [
      "chr1\n",
      "40634\n"
     ]
    },
    {
     "name": "stderr",
     "output_type": "stream",
     "text": [
      "  0%|                                                                                  | 0/40634 [00:00<?, ?it/s]"
     ]
    },
    {
     "name": "stderr",
     "output_type": "stream",
     "text": [
      "100%|███████████████████████████████████████████████████████████████████| 40634/40634 [00:03<00:00, 10816.37it/s]\n"
     ]
    },
    {
     "name": "stdout",
     "output_type": "stream",
     "text": [
      "chr10\n",
      "18178\n"
     ]
    },
    {
     "name": "stderr",
     "output_type": "stream",
     "text": [
      "100%|████████████████████████████████████████████████████████████████████| 18178/18178 [00:02<00:00, 8558.50it/s]\n"
     ]
    },
    {
     "name": "stdout",
     "output_type": "stream",
     "text": [
      "chr11\n",
      "22260\n"
     ]
    },
    {
     "name": "stderr",
     "output_type": "stream",
     "text": [
      "100%|███████████████████████████████████████████████████████████████████| 22260/22260 [00:02<00:00, 10737.17it/s]\n"
     ]
    },
    {
     "name": "stdout",
     "output_type": "stream",
     "text": [
      "chr12\n",
      "22668\n"
     ]
    },
    {
     "name": "stderr",
     "output_type": "stream",
     "text": [
      "100%|███████████████████████████████████████████████████████████████████| 22668/22668 [00:02<00:00, 10374.39it/s]\n"
     ]
    },
    {
     "name": "stdout",
     "output_type": "stream",
     "text": [
      "chr13\n",
      "9974\n"
     ]
    },
    {
     "name": "stderr",
     "output_type": "stream",
     "text": [
      "100%|██████████████████████████████████████████████████████████████████████| 9974/9974 [00:01<00:00, 8533.34it/s]\n"
     ]
    },
    {
     "name": "stdout",
     "output_type": "stream",
     "text": [
      "chr14\n",
      "13968\n"
     ]
    },
    {
     "name": "stderr",
     "output_type": "stream",
     "text": [
      "100%|███████████████████████████████████████████████████████████████████| 13968/13968 [00:01<00:00, 10580.63it/s]\n"
     ]
    },
    {
     "name": "stdout",
     "output_type": "stream",
     "text": [
      "chr15\n",
      "16029\n"
     ]
    },
    {
     "name": "stderr",
     "output_type": "stream",
     "text": [
      "100%|███████████████████████████████████████████████████████████████████| 16029/16029 [00:01<00:00, 10338.82it/s]\n"
     ]
    },
    {
     "name": "stdout",
     "output_type": "stream",
     "text": [
      "chr16\n",
      "17309\n"
     ]
    },
    {
     "name": "stderr",
     "output_type": "stream",
     "text": [
      "100%|███████████████████████████████████████████████████████████████████| 17309/17309 [00:01<00:00, 11356.09it/s]\n"
     ]
    },
    {
     "name": "stdout",
     "output_type": "stream",
     "text": [
      "chr17\n",
      "21643\n"
     ]
    },
    {
     "name": "stderr",
     "output_type": "stream",
     "text": [
      "100%|███████████████████████████████████████████████████████████████████| 21643/21643 [00:01<00:00, 11426.19it/s]\n"
     ]
    },
    {
     "name": "stdout",
     "output_type": "stream",
     "text": [
      "chr18\n",
      "8780\n"
     ]
    },
    {
     "name": "stderr",
     "output_type": "stream",
     "text": [
      "100%|█████████████████████████████████████████████████████████████████████| 8780/8780 [00:00<00:00, 11302.76it/s]\n"
     ]
    },
    {
     "name": "stdout",
     "output_type": "stream",
     "text": [
      "chr19\n",
      "19577\n"
     ]
    },
    {
     "name": "stderr",
     "output_type": "stream",
     "text": [
      "100%|███████████████████████████████████████████████████████████████████| 19577/19577 [00:01<00:00, 10159.61it/s]\n"
     ]
    },
    {
     "name": "stdout",
     "output_type": "stream",
     "text": [
      "chr2\n",
      "34090\n"
     ]
    },
    {
     "name": "stderr",
     "output_type": "stream",
     "text": [
      "100%|███████████████████████████████████████████████████████████████████| 34090/34090 [00:03<00:00, 10225.10it/s]\n"
     ]
    },
    {
     "name": "stdout",
     "output_type": "stream",
     "text": [
      "chr20\n",
      "10325\n"
     ]
    },
    {
     "name": "stderr",
     "output_type": "stream",
     "text": [
      "100%|███████████████████████████████████████████████████████████████████| 10325/10325 [00:00<00:00, 10515.31it/s]\n"
     ]
    },
    {
     "name": "stdout",
     "output_type": "stream",
     "text": [
      "chr21\n",
      "5669\n"
     ]
    },
    {
     "name": "stderr",
     "output_type": "stream",
     "text": [
      "100%|█████████████████████████████████████████████████████████████████████| 5669/5669 [00:00<00:00, 10490.14it/s]\n"
     ]
    },
    {
     "name": "stdout",
     "output_type": "stream",
     "text": [
      "chr22\n",
      "8897\n"
     ]
    },
    {
     "name": "stderr",
     "output_type": "stream",
     "text": [
      "100%|█████████████████████████████████████████████████████████████████████| 8897/8897 [00:00<00:00, 10488.93it/s]\n"
     ]
    },
    {
     "name": "stdout",
     "output_type": "stream",
     "text": [
      "chr3\n",
      "25401\n"
     ]
    },
    {
     "name": "stderr",
     "output_type": "stream",
     "text": [
      "100%|███████████████████████████████████████████████████████████████████| 25401/25401 [00:02<00:00, 10547.92it/s]\n"
     ]
    },
    {
     "name": "stdout",
     "output_type": "stream",
     "text": [
      "chr4\n",
      "19572\n"
     ]
    },
    {
     "name": "stderr",
     "output_type": "stream",
     "text": [
      "100%|███████████████████████████████████████████████████████████████████| 19572/19572 [00:01<00:00, 10630.69it/s]\n"
     ]
    },
    {
     "name": "stdout",
     "output_type": "stream",
     "text": [
      "chr5\n",
      "21347\n"
     ]
    },
    {
     "name": "stderr",
     "output_type": "stream",
     "text": [
      "100%|███████████████████████████████████████████████████████████████████| 21347/21347 [00:01<00:00, 11053.56it/s]\n"
     ]
    },
    {
     "name": "stdout",
     "output_type": "stream",
     "text": [
      "chr6\n",
      "22511\n"
     ]
    },
    {
     "name": "stderr",
     "output_type": "stream",
     "text": [
      "100%|███████████████████████████████████████████████████████████████████| 22511/22511 [00:02<00:00, 10623.95it/s]\n"
     ]
    },
    {
     "name": "stdout",
     "output_type": "stream",
     "text": [
      "chr7\n",
      "21309\n"
     ]
    },
    {
     "name": "stderr",
     "output_type": "stream",
     "text": [
      "100%|███████████████████████████████████████████████████████████████████| 21309/21309 [00:01<00:00, 11179.71it/s]\n"
     ]
    },
    {
     "name": "stdout",
     "output_type": "stream",
     "text": [
      "chr8\n",
      "17517\n"
     ]
    },
    {
     "name": "stderr",
     "output_type": "stream",
     "text": [
      "100%|███████████████████████████████████████████████████████████████████| 17517/17517 [00:01<00:00, 10331.87it/s]\n"
     ]
    },
    {
     "name": "stdout",
     "output_type": "stream",
     "text": [
      "chr9\n",
      "17794\n"
     ]
    },
    {
     "name": "stderr",
     "output_type": "stream",
     "text": [
      "100%|███████████████████████████████████████████████████████████████████| 17794/17794 [00:01<00:00, 11554.81it/s]\n"
     ]
    },
    {
     "name": "stdout",
     "output_type": "stream",
     "text": [
      "chrX\n",
      "13991\n"
     ]
    },
    {
     "name": "stderr",
     "output_type": "stream",
     "text": [
      "100%|███████████████████████████████████████████████████████████████████| 13991/13991 [00:01<00:00, 10233.72it/s]\n"
     ]
    },
    {
     "name": "stdout",
     "output_type": "stream",
     "text": [
      "chrY\n",
      "2887\n"
     ]
    },
    {
     "name": "stderr",
     "output_type": "stream",
     "text": [
      "100%|█████████████████████████████████████████████████████████████████████| 2887/2887 [00:00<00:00, 11337.53it/s]\n"
     ]
    }
   ],
   "source": [
    "null_exons = []\n",
    "for chrom, background_chrom in background.groupby('chr'):\n",
    "    null_exons_chr = []\n",
    "    print(chrom)\n",
    "    background_starts = background_chrom['start'].values\n",
    "    background_ends = background_chrom['end'].values\n",
    "    exon_chrom = exons[exons['chr'] == chrom]\n",
    "    print(len(exon_chrom))\n",
    "    for idx, exon in tqdm(exon_chrom.iterrows(), total=len(exon_chrom)):\n",
    "        null_exons_chr.append(get_closest_background(exon, background_starts, background_ends))\n",
    "    null_exons_chr = pd.DataFrame(null_exons_chr, columns=['start', 'end'])\n",
    "    null_exons_chr['exon_id'] = exon_chrom['exon_id'].values\n",
    "    null_exons_chr['gene_id'] = exon_chrom['gene_id'].values\n",
    "    null_exons_chr['chr'] = chrom\n",
    "    null_exons.append(null_exons_chr)\n",
    "\n",
    "# concat and save\n",
    "null_exons_all_chrs = pd.concat(null_exons)\n",
    "null_exons_all_chrs[['chr', 'start', 'end', 'exon_id', 'gene_id']].to_csv('/home/klawren/oak/gtex/data/other_references/nongenic_null/matched_nongenic_null_intergenic.bed', index=False, header=None, sep = '\\t')"
   ]
  },
  {
   "cell_type": "markdown",
   "metadata": {},
   "source": [
    "\"each gene have a single transcript whose id matches the parent gene id\" from rnaseqc"
   ]
  },
  {
   "cell_type": "code",
   "execution_count": 14,
   "metadata": {},
   "outputs": [],
   "source": [
    "# fix the null name to be compatible\n",
    "null_exons_all_chrs['exon_id'] = null_exons_all_chrs['exon_id'].str.split(';').str[0]\n",
    "\n",
    "# merge in the null information\n",
    "null_exons_gtf = pd.merge(gencode_v47_df[gencode_v47_df['Feature'] == 'exon'].reset_index(), null_exons_all_chrs, on='exon_id', suffixes=['', '_null'])\n",
    "# combine into the main gtf based on index \n",
    "null_full_gtf = pd.merge(gencode_v47_df.reset_index(), null_exons_gtf[['index', 'start', 'end']], on='index', how='left', suffixes=['', '_null'])\n",
    "\n",
    "# add gene starts and ends as bounds \n",
    "gene_starts = null_full_gtf.groupby('gene_id').agg({'start':'min', 'end':'max'})\n",
    "null_full_gtf = pd.merge(null_full_gtf, gene_starts, on='gene_id', how='left', suffixes=['', '_gene'])\n",
    "\n",
    "# replace the start and end with the null version\n",
    "null_full_gtf['Start'] = np.where(null_full_gtf['Feature'] == 'exon', null_full_gtf['start'], null_full_gtf['start_gene'])\n",
    "null_full_gtf['End'] = np.where(null_full_gtf['Feature'] == 'exon', null_full_gtf['end'], null_full_gtf['end_gene'])"
   ]
  },
  {
   "cell_type": "code",
   "execution_count": 15,
   "metadata": {},
   "outputs": [],
   "source": [
    "# Function to convert to gtf\n",
    "def df_to_gtf(df, output_file):\n",
    "    with open(output_file, 'w') as f:\n",
    "        f.write(\"##description: nongenic nulls matched to exons from annotation of the human genome (GRCh38), version 47 (Ensembl 113)\\n##provider: Kate Lawrence\\n##contact: klawren@stanford.edu\\n##format: gtf\\n##date: 2025-03-21\")\n",
    "        for index, row in df.iterrows():\n",
    "            attributes = f'gene_id \"{row[\"gene_id\"]}\"; transcript_id \"{row[\"transcript_id\"]}\"; exon_id \"{row[\"exon_id\"]}\";'\n",
    "            gtf_line = f'{row[\"Chromosome\"]}\\t{row[\"Source\"]}\\t{row[\"Feature\"]}\\t{row[\"Start\"]}\\t{row[\"End\"]}\\t{row[\"Score\"]}\\t{row[\"Strand\"]}\\t{row[\"Frame\"]}\\t{attributes}\\n'\n",
    "            f.write(gtf_line)\n",
    "\n",
    "df_to_gtf(null_full_gtf, '/home/klawren/oak/gtex/data/other_references/nongenic_null/matched_nongenic_null_intergenic.v47.gtf')"
   ]
  },
  {
   "cell_type": "markdown",
   "metadata": {},
   "source": [
    "### dont allow exon overlap"
   ]
  },
  {
   "cell_type": "code",
   "execution_count": 20,
   "metadata": {},
   "outputs": [],
   "source": [
    "def get_closest_background_no_overlap(exon, background_starts, background_ends):\n",
    "    exon_length = exon['end'] - exon['start']\n",
    "    idx_right = bisect.bisect_left(background_starts, exon['start'])\n",
    "    # catch index too far left\n",
    "    while idx_right < len(background_starts) and background_starts[idx_right] < exon['start']:\n",
    "        idx_right += 1\n",
    "\n",
    "    idx_left = idx_right - 1\n",
    "    max_iter = len(background_starts)  # Safety limit\n",
    "    iter_count = 0\n",
    "\n",
    "    while iter_count < max_iter:\n",
    "        iter_count += 1\n",
    "        # Try right side\n",
    "        if idx_right < len(background_starts):\n",
    "            right_start, right_end = background_starts[idx_right], background_ends[idx_right]\n",
    "            if right_end - right_start >= exon_length:\n",
    "                background_starts[idx_right] = background_starts[idx_right] + exon_length\n",
    "                return([right_start, right_start + exon_length])\n",
    "        \n",
    "        # Try left side\n",
    "        if idx_left >= 0:\n",
    "            left_start, left_end = background_starts[idx_left], background_ends[idx_left]\n",
    "            if left_end - left_start >= exon_length:\n",
    "                background_ends[idx_left] = background_ends[idx_left] - exon_length\n",
    "                return([left_end-exon_length, left_end])  \n",
    "        \n",
    "        idx_right += 1\n",
    "        idx_left -= 1"
   ]
  },
  {
   "cell_type": "code",
   "execution_count": 23,
   "metadata": {},
   "outputs": [
    {
     "name": "stdout",
     "output_type": "stream",
     "text": [
      "chr1\n",
      "33389\n"
     ]
    },
    {
     "name": "stderr",
     "output_type": "stream",
     "text": [
      "100%|███████████| 33389/33389 [00:03<00:00, 8354.59it/s]\n"
     ]
    },
    {
     "name": "stdout",
     "output_type": "stream",
     "text": [
      "chr10\n",
      "14172\n"
     ]
    },
    {
     "name": "stderr",
     "output_type": "stream",
     "text": [
      "100%|██████████| 14172/14172 [00:01<00:00, 10399.14it/s]\n"
     ]
    },
    {
     "name": "stdout",
     "output_type": "stream",
     "text": [
      "chr11\n",
      "18760\n"
     ]
    },
    {
     "name": "stderr",
     "output_type": "stream",
     "text": [
      "100%|███████████| 18760/18760 [00:01<00:00, 9828.66it/s]\n"
     ]
    },
    {
     "name": "stdout",
     "output_type": "stream",
     "text": [
      "chr12\n",
      "19007\n"
     ]
    },
    {
     "name": "stderr",
     "output_type": "stream",
     "text": [
      "100%|██████████| 19007/19007 [00:01<00:00, 10016.33it/s]\n"
     ]
    },
    {
     "name": "stdout",
     "output_type": "stream",
     "text": [
      "chr13\n",
      "7294\n"
     ]
    },
    {
     "name": "stderr",
     "output_type": "stream",
     "text": [
      " 43%|█████       | 3111/7294 [00:00<00:00, 11309.95it/s]\n"
     ]
    },
    {
     "ename": "KeyboardInterrupt",
     "evalue": "",
     "output_type": "error",
     "traceback": [
      "\u001b[0;31m---------------------------------------------------------------------------\u001b[0m",
      "\u001b[0;31mKeyboardInterrupt\u001b[0m                         Traceback (most recent call last)",
      "Cell \u001b[0;32mIn[23], line 10\u001b[0m\n\u001b[1;32m      8\u001b[0m \u001b[38;5;28mprint\u001b[39m(\u001b[38;5;28mlen\u001b[39m(exon_chrom))\n\u001b[1;32m      9\u001b[0m \u001b[38;5;28;01mfor\u001b[39;00m idx, exon \u001b[38;5;129;01min\u001b[39;00m tqdm(exon_chrom\u001b[38;5;241m.\u001b[39miterrows(), total\u001b[38;5;241m=\u001b[39m\u001b[38;5;28mlen\u001b[39m(exon_chrom)):\n\u001b[0;32m---> 10\u001b[0m     null_exons_chr\u001b[38;5;241m.\u001b[39mappend(\u001b[43mget_closest_background_no_overlap\u001b[49m\u001b[43m(\u001b[49m\u001b[43mexon\u001b[49m\u001b[43m,\u001b[49m\u001b[43m \u001b[49m\u001b[43mbackground_starts\u001b[49m\u001b[43m,\u001b[49m\u001b[43m \u001b[49m\u001b[43mbackground_ends\u001b[49m\u001b[43m)\u001b[49m)\n\u001b[1;32m     11\u001b[0m null_exons_chr \u001b[38;5;241m=\u001b[39m pd\u001b[38;5;241m.\u001b[39mDataFrame(null_exons_chr, columns\u001b[38;5;241m=\u001b[39m[\u001b[38;5;124m'\u001b[39m\u001b[38;5;124mstart\u001b[39m\u001b[38;5;124m'\u001b[39m, \u001b[38;5;124m'\u001b[39m\u001b[38;5;124mend\u001b[39m\u001b[38;5;124m'\u001b[39m])\n\u001b[1;32m     12\u001b[0m null_exons_chr[\u001b[38;5;124m'\u001b[39m\u001b[38;5;124mexon_id\u001b[39m\u001b[38;5;124m'\u001b[39m] \u001b[38;5;241m=\u001b[39m exon_chrom[\u001b[38;5;124m'\u001b[39m\u001b[38;5;124mexon_id\u001b[39m\u001b[38;5;124m'\u001b[39m]\u001b[38;5;241m.\u001b[39mvalues\n",
      "Cell \u001b[0;32mIn[20], line 2\u001b[0m, in \u001b[0;36mget_closest_background_no_overlap\u001b[0;34m(exon, background_starts, background_ends)\u001b[0m\n\u001b[1;32m      1\u001b[0m \u001b[38;5;28;01mdef\u001b[39;00m \u001b[38;5;21mget_closest_background_no_overlap\u001b[39m(exon, background_starts, background_ends):\n\u001b[0;32m----> 2\u001b[0m     exon_length \u001b[38;5;241m=\u001b[39m \u001b[43mexon\u001b[49m\u001b[43m[\u001b[49m\u001b[38;5;124;43m'\u001b[39;49m\u001b[38;5;124;43mend\u001b[39;49m\u001b[38;5;124;43m'\u001b[39;49m\u001b[43m]\u001b[49m \u001b[38;5;241m-\u001b[39m exon[\u001b[38;5;124m'\u001b[39m\u001b[38;5;124mstart\u001b[39m\u001b[38;5;124m'\u001b[39m]\n\u001b[1;32m      3\u001b[0m     idx_right \u001b[38;5;241m=\u001b[39m bisect\u001b[38;5;241m.\u001b[39mbisect_left(background_starts, exon[\u001b[38;5;124m'\u001b[39m\u001b[38;5;124mstart\u001b[39m\u001b[38;5;124m'\u001b[39m])\n\u001b[1;32m      4\u001b[0m     \u001b[38;5;66;03m# catch index too far left\u001b[39;00m\n",
      "File \u001b[0;32m~/micromamba/envs/tensorqtl_r/lib/python3.8/site-packages/pandas/core/series.py:1007\u001b[0m, in \u001b[0;36mSeries.__getitem__\u001b[0;34m(self, key)\u001b[0m\n\u001b[1;32m   1004\u001b[0m     \u001b[38;5;28;01mreturn\u001b[39;00m \u001b[38;5;28mself\u001b[39m\u001b[38;5;241m.\u001b[39m_values[key]\n\u001b[1;32m   1006\u001b[0m \u001b[38;5;28;01melif\u001b[39;00m key_is_scalar:\n\u001b[0;32m-> 1007\u001b[0m     \u001b[38;5;28;01mreturn\u001b[39;00m \u001b[38;5;28;43mself\u001b[39;49m\u001b[38;5;241;43m.\u001b[39;49m\u001b[43m_get_value\u001b[49m\u001b[43m(\u001b[49m\u001b[43mkey\u001b[49m\u001b[43m)\u001b[49m\n\u001b[1;32m   1009\u001b[0m \u001b[38;5;28;01mif\u001b[39;00m is_hashable(key):\n\u001b[1;32m   1010\u001b[0m     \u001b[38;5;66;03m# Otherwise index.get_value will raise InvalidIndexError\u001b[39;00m\n\u001b[1;32m   1011\u001b[0m     \u001b[38;5;28;01mtry\u001b[39;00m:\n\u001b[1;32m   1012\u001b[0m         \u001b[38;5;66;03m# For labels that don't resolve as scalars like tuples and frozensets\u001b[39;00m\n",
      "File \u001b[0;32m~/micromamba/envs/tensorqtl_r/lib/python3.8/site-packages/pandas/core/series.py:1119\u001b[0m, in \u001b[0;36mSeries._get_value\u001b[0;34m(self, label, takeable)\u001b[0m\n\u001b[1;32m   1116\u001b[0m loc \u001b[38;5;241m=\u001b[39m \u001b[38;5;28mself\u001b[39m\u001b[38;5;241m.\u001b[39mindex\u001b[38;5;241m.\u001b[39mget_loc(label)\n\u001b[1;32m   1118\u001b[0m \u001b[38;5;28;01mif\u001b[39;00m is_integer(loc):\n\u001b[0;32m-> 1119\u001b[0m     \u001b[38;5;28;01mreturn\u001b[39;00m \u001b[38;5;28;43mself\u001b[39;49m\u001b[38;5;241;43m.\u001b[39;49m\u001b[43m_values\u001b[49m[loc]\n\u001b[1;32m   1121\u001b[0m \u001b[38;5;28;01mif\u001b[39;00m \u001b[38;5;28misinstance\u001b[39m(\u001b[38;5;28mself\u001b[39m\u001b[38;5;241m.\u001b[39mindex, MultiIndex):\n\u001b[1;32m   1122\u001b[0m     mi \u001b[38;5;241m=\u001b[39m \u001b[38;5;28mself\u001b[39m\u001b[38;5;241m.\u001b[39mindex\n",
      "File \u001b[0;32m~/micromamba/envs/tensorqtl_r/lib/python3.8/site-packages/pandas/core/series.py:750\u001b[0m, in \u001b[0;36mSeries._values\u001b[0;34m(self)\u001b[0m\n\u001b[1;32m    718\u001b[0m \u001b[38;5;129m@property\u001b[39m\n\u001b[1;32m    719\u001b[0m \u001b[38;5;28;01mdef\u001b[39;00m \u001b[38;5;21m_values\u001b[39m(\u001b[38;5;28mself\u001b[39m):\n\u001b[1;32m    720\u001b[0m \u001b[38;5;250m    \u001b[39m\u001b[38;5;124;03m\"\"\"\u001b[39;00m\n\u001b[1;32m    721\u001b[0m \u001b[38;5;124;03m    Return the internal repr of this data (defined by Block.interval_values).\u001b[39;00m\n\u001b[1;32m    722\u001b[0m \u001b[38;5;124;03m    This are the values as stored in the Block (ndarray or ExtensionArray\u001b[39;00m\n\u001b[0;32m   (...)\u001b[0m\n\u001b[1;32m    748\u001b[0m \n\u001b[1;32m    749\u001b[0m \u001b[38;5;124;03m    \"\"\"\u001b[39;00m\n\u001b[0;32m--> 750\u001b[0m     \u001b[38;5;28;01mreturn\u001b[39;00m \u001b[38;5;28;43mself\u001b[39;49m\u001b[38;5;241;43m.\u001b[39;49m\u001b[43m_mgr\u001b[49m\u001b[38;5;241;43m.\u001b[39;49m\u001b[43minternal_values\u001b[49m\u001b[43m(\u001b[49m\u001b[43m)\u001b[49m\n",
      "File \u001b[0;32m~/micromamba/envs/tensorqtl_r/lib/python3.8/site-packages/pandas/core/internals/managers.py:2013\u001b[0m, in \u001b[0;36mSingleBlockManager.internal_values\u001b[0;34m(self)\u001b[0m\n\u001b[1;32m   2011\u001b[0m \u001b[38;5;28;01mdef\u001b[39;00m \u001b[38;5;21minternal_values\u001b[39m(\u001b[38;5;28mself\u001b[39m):\n\u001b[1;32m   2012\u001b[0m \u001b[38;5;250m    \u001b[39m\u001b[38;5;124;03m\"\"\"The array that Series._values returns\"\"\"\u001b[39;00m\n\u001b[0;32m-> 2013\u001b[0m     \u001b[38;5;28;01mreturn\u001b[39;00m \u001b[38;5;28;43mself\u001b[39;49m\u001b[38;5;241;43m.\u001b[39;49m\u001b[43m_block\u001b[49m\u001b[38;5;241m.\u001b[39mvalues\n",
      "File \u001b[0;32m~/micromamba/envs/tensorqtl_r/lib/python3.8/site-packages/pandas/_libs/properties.pyx:36\u001b[0m, in \u001b[0;36mpandas._libs.properties.CachedProperty.__get__\u001b[0;34m()\u001b[0m\n",
      "File \u001b[0;32m~/micromamba/envs/tensorqtl_r/lib/python3.8/site-packages/pandas/core/internals/managers.py:1944\u001b[0m, in \u001b[0;36mSingleBlockManager._block\u001b[0;34m(self)\u001b[0m\n\u001b[1;32m   1941\u001b[0m \u001b[38;5;28;01mdef\u001b[39;00m \u001b[38;5;21m_post_setstate\u001b[39m(\u001b[38;5;28mself\u001b[39m) \u001b[38;5;241m-\u001b[39m\u001b[38;5;241m>\u001b[39m \u001b[38;5;28;01mNone\u001b[39;00m:\n\u001b[1;32m   1942\u001b[0m     \u001b[38;5;28;01mpass\u001b[39;00m\n\u001b[0;32m-> 1944\u001b[0m \u001b[38;5;129m@cache_readonly\u001b[39m\n\u001b[1;32m   1945\u001b[0m \u001b[38;5;28;01mdef\u001b[39;00m \u001b[38;5;21m_block\u001b[39m(\u001b[38;5;28mself\u001b[39m) \u001b[38;5;241m-\u001b[39m\u001b[38;5;241m>\u001b[39m Block:\n\u001b[1;32m   1946\u001b[0m     \u001b[38;5;28;01mreturn\u001b[39;00m \u001b[38;5;28mself\u001b[39m\u001b[38;5;241m.\u001b[39mblocks[\u001b[38;5;241m0\u001b[39m]\n\u001b[1;32m   1948\u001b[0m \u001b[38;5;129m@property\u001b[39m\n\u001b[1;32m   1949\u001b[0m \u001b[38;5;28;01mdef\u001b[39;00m \u001b[38;5;21m_blknos\u001b[39m(\u001b[38;5;28mself\u001b[39m):\n",
      "\u001b[0;31mKeyboardInterrupt\u001b[0m: "
     ]
    }
   ],
   "source": [
    "null_exons = []\n",
    "for chrom, background_chrom in background.groupby('chr'):\n",
    "    null_exons_chr = []\n",
    "    print(chrom)\n",
    "    background_starts = background_chrom['start'].values\n",
    "    background_ends = background_chrom['end'].values\n",
    "    exon_chrom = exons[exons['chr'] == chrom]\n",
    "    print(len(exon_chrom))\n",
    "    for idx, exon in tqdm(exon_chrom.iterrows(), total=len(exon_chrom)):\n",
    "        null_exons_chr.append(get_closest_background_no_overlap(exon, background_starts, background_ends))\n",
    "    null_exons_chr = pd.DataFrame(null_exons_chr, columns=['start', 'end'])\n",
    "    null_exons_chr['exon_id'] = exon_chrom['exon_id'].values\n",
    "    null_exons_chr['gene_id'] = exon_chrom['gene_id'].values\n",
    "    null_exons_chr['chr'] = chrom\n",
    "    null_exons.append(null_exons_chr)\n",
    "\n",
    "# concat and save\n",
    "null_exons_all_chrs = pd.concat(null_exons)\n",
    "null_exons_all_chrs[['chr', 'start', 'end', 'exon_id', 'gene_id']].to_csv('/home/klawren/oak/gtex/data/other_references/nongenic_null/matched_nongenic_null_intergenic_no_overlap.bed', index=False, header=None, sep = '\\t')"
   ]
  },
  {
   "cell_type": "code",
   "execution_count": 54,
   "metadata": {},
   "outputs": [],
   "source": [
    "# fix the null name to be compatible\n",
    "null_exons_all_chrs['exon_id'] = null_exons_all_chrs['exon_id'].str.split(';').str[0]\n",
    "\n",
    "# merge in the null information\n",
    "null_exons_gtf = pd.merge(gencode_v47_df[gencode_v47_df['Feature'] == 'exon'].reset_index(), null_exons_all_chrs, on='exon_id', suffixes=['', '_null'])\n",
    "# combine into the main gtf based on index \n",
    "null_full_gtf = pd.merge(gencode_v47_df.reset_index(), null_exons_gtf[['index', 'start', 'end']], on='index', how='left', suffixes=['', '_null'])\n",
    "\n",
    "# add gene starts and ends as bounds \n",
    "gene_starts = null_full_gtf.groupby('gene_id').agg({'start':'min', 'end':'max'})\n",
    "null_full_gtf = pd.merge(null_full_gtf, gene_starts, on='gene_id', how='left', suffixes=['', '_gene'])\n",
    "\n",
    "# replace the start and end with the null version\n",
    "null_full_gtf['Start'] = np.where(null_full_gtf['Feature'] == 'exon', null_full_gtf['start'], null_full_gtf['start_gene'])\n",
    "null_full_gtf['End'] = np.where(null_full_gtf['Feature'] == 'exon', null_full_gtf['end'], null_full_gtf['end_gene'])"
   ]
  },
  {
   "cell_type": "code",
   "execution_count": null,
   "metadata": {},
   "outputs": [],
   "source": [
    "# Function to convert to gtf\n",
    "def df_to_gtf(df, output_file):\n",
    "    with open(output_file, 'w') as f:\n",
    "        f.write(\"##description: nongenic nulls matched to exons from annotation of the human genome (GRCh38), version 47 (Ensembl 113)\\n##provider: Kate Lawrence\\n##contact: klawren@stanford.edu\\n##format: gtf\\n##date: 2025-03-21\")\n",
    "        for index, row in df.iterrows():\n",
    "            attributes = f'gene_id \"{row[\"gene_id\"]}\"; transcript_id \"{row[\"transcript_id\"]}\"; exon_id \"{row[\"exon_id\"]}\";'\n",
    "            gtf_line = f'{row[\"Chromosome\"]}\\t{row[\"Source\"]}\\t{row[\"Feature\"]}\\t{row[\"Start\"]}\\t{row[\"End\"]}\\t{row[\"Score\"]}\\t{row[\"Strand\"]}\\t{row[\"Frame\"]}\\t{attributes}\\n'\n",
    "            f.write(gtf_line)\n",
    "\n",
    "df_to_gtf(null_full_gtf, '/home/klawren/oak/gtex/data/realign_references/gencode.v47.matched_nongenic_null_intergenic.gtf')"
   ]
  },
  {
   "cell_type": "markdown",
   "metadata": {},
   "source": [
    "### matched null for v10"
   ]
  },
  {
   "cell_type": "code",
   "execution_count": 18,
   "metadata": {},
   "outputs": [],
   "source": [
    "exons = pd.read_csv(\"/home/klawren/oak/gtex/data/other_references/nongenic_null_v10/exons_to_match.bed\", sep='\\t', header=None, names=['chr', 'start', 'end', 'exon_id', 'gene_id'])\n",
    "exons['length'] = exons['end'] - exons['start']\n",
    "exons = exons[~exons['chr'].isin(['chrM'])]\n",
    "\n",
    "# if introns are allowed\n",
    "#background = pd.read_csv(\"/home/klawren/oak/gtex/data/other_references/nongenic_null/background_regions.bed\", sep='\\t', header=None, names=['chr', 'start', 'end'])\n",
    "# if introns aren't allowed \n",
    "background = pd.read_csv(\"/home/klawren/oak/gtex/data/other_references/nongenic_null_v10/intergenic_regions.bed\", sep='\\t', header=None, names=['chr', 'start', 'end'])\n",
    "\n",
    "background = background[background['chr'].isin(exons['chr'].unique())]\n",
    "background = background.sort_values(['chr', 'start'])\n",
    "\n",
    "# load in gencode 39 gtf\n",
    "gencode_v39_path = \"/home/klawren/oak/gtex/data/realign_references/gencode.v39.genes.gtf\"\n",
    "gencode_v39=pr.read_gtf(gencode_v39_path)\n",
    "gencode_v39_df = gencode_v39.as_df()\n",
    "gencode_v39_df = gencode_v39_df[~(gencode_v39_df['Chromosome'] == 'chrM')]"
   ]
  },
  {
   "cell_type": "code",
   "execution_count": 24,
   "metadata": {},
   "outputs": [
    {
     "name": "stdout",
     "output_type": "stream",
     "text": [
      "chr1\n",
      "33389\n"
     ]
    },
    {
     "name": "stderr",
     "output_type": "stream",
     "text": [
      "100%|██████████| 33389/33389 [00:03<00:00, 10202.22it/s]\n"
     ]
    },
    {
     "name": "stdout",
     "output_type": "stream",
     "text": [
      "chr10\n",
      "14172\n"
     ]
    },
    {
     "name": "stderr",
     "output_type": "stream",
     "text": [
      "100%|███████████| 14172/14172 [00:01<00:00, 9985.88it/s]\n"
     ]
    },
    {
     "name": "stdout",
     "output_type": "stream",
     "text": [
      "chr11\n",
      "18760\n"
     ]
    },
    {
     "name": "stderr",
     "output_type": "stream",
     "text": [
      "100%|███████████| 18760/18760 [00:01<00:00, 9921.51it/s]\n"
     ]
    },
    {
     "name": "stdout",
     "output_type": "stream",
     "text": [
      "chr12\n",
      "19007\n"
     ]
    },
    {
     "name": "stderr",
     "output_type": "stream",
     "text": [
      "100%|███████████| 19007/19007 [00:02<00:00, 6947.41it/s]\n"
     ]
    },
    {
     "name": "stdout",
     "output_type": "stream",
     "text": [
      "chr13\n",
      "7294\n"
     ]
    },
    {
     "name": "stderr",
     "output_type": "stream",
     "text": [
      "100%|████████████| 7294/7294 [00:00<00:00, 10081.82it/s]\n"
     ]
    },
    {
     "name": "stdout",
     "output_type": "stream",
     "text": [
      "chr14\n",
      "11489\n"
     ]
    },
    {
     "name": "stderr",
     "output_type": "stream",
     "text": [
      "100%|██████████| 11489/11489 [00:01<00:00, 10237.11it/s]\n"
     ]
    },
    {
     "name": "stdout",
     "output_type": "stream",
     "text": [
      "chr15\n",
      "13451\n"
     ]
    },
    {
     "name": "stderr",
     "output_type": "stream",
     "text": [
      "100%|██████████| 13451/13451 [00:01<00:00, 11040.45it/s]\n"
     ]
    },
    {
     "name": "stdout",
     "output_type": "stream",
     "text": [
      "chr16\n",
      "15015\n"
     ]
    },
    {
     "name": "stderr",
     "output_type": "stream",
     "text": [
      "100%|██████████| 15015/15015 [00:01<00:00, 10801.36it/s]\n"
     ]
    },
    {
     "name": "stdout",
     "output_type": "stream",
     "text": [
      "chr17\n",
      "18801\n"
     ]
    },
    {
     "name": "stderr",
     "output_type": "stream",
     "text": [
      "100%|██████████| 18801/18801 [00:01<00:00, 11035.59it/s]\n"
     ]
    },
    {
     "name": "stdout",
     "output_type": "stream",
     "text": [
      "chr18\n",
      "6630\n"
     ]
    },
    {
     "name": "stderr",
     "output_type": "stream",
     "text": [
      "100%|████████████| 6630/6630 [00:00<00:00, 11128.73it/s]\n"
     ]
    },
    {
     "name": "stdout",
     "output_type": "stream",
     "text": [
      "chr19\n",
      "17641\n"
     ]
    },
    {
     "name": "stderr",
     "output_type": "stream",
     "text": [
      "100%|██████████| 17641/17641 [00:01<00:00, 10974.17it/s]\n"
     ]
    },
    {
     "name": "stdout",
     "output_type": "stream",
     "text": [
      "chr2\n",
      "26924\n"
     ]
    },
    {
     "name": "stderr",
     "output_type": "stream",
     "text": [
      "100%|██████████| 26924/26924 [00:02<00:00, 11081.85it/s]\n"
     ]
    },
    {
     "name": "stdout",
     "output_type": "stream",
     "text": [
      "chr20\n",
      "8284\n"
     ]
    },
    {
     "name": "stderr",
     "output_type": "stream",
     "text": [
      "100%|████████████| 8284/8284 [00:00<00:00, 11148.74it/s]\n"
     ]
    },
    {
     "name": "stdout",
     "output_type": "stream",
     "text": [
      "chr21\n",
      "4502\n"
     ]
    },
    {
     "name": "stderr",
     "output_type": "stream",
     "text": [
      "100%|████████████| 4502/4502 [00:00<00:00, 11081.75it/s]\n"
     ]
    },
    {
     "name": "stdout",
     "output_type": "stream",
     "text": [
      "chr22\n",
      "7478\n"
     ]
    },
    {
     "name": "stderr",
     "output_type": "stream",
     "text": [
      "100%|████████████| 7478/7478 [00:00<00:00, 11032.66it/s]\n"
     ]
    },
    {
     "name": "stdout",
     "output_type": "stream",
     "text": [
      "chr3\n",
      "20794\n"
     ]
    },
    {
     "name": "stderr",
     "output_type": "stream",
     "text": [
      "100%|██████████| 20794/20794 [00:01<00:00, 11111.05it/s]\n"
     ]
    },
    {
     "name": "stdout",
     "output_type": "stream",
     "text": [
      "chr4\n",
      "14945\n"
     ]
    },
    {
     "name": "stderr",
     "output_type": "stream",
     "text": [
      "100%|██████████| 14945/14945 [00:01<00:00, 10076.41it/s]\n"
     ]
    },
    {
     "name": "stdout",
     "output_type": "stream",
     "text": [
      "chr5\n",
      "16421\n"
     ]
    },
    {
     "name": "stderr",
     "output_type": "stream",
     "text": [
      "100%|███████████| 16421/16421 [00:01<00:00, 9970.71it/s]\n"
     ]
    },
    {
     "name": "stdout",
     "output_type": "stream",
     "text": [
      "chr6\n",
      "17172\n"
     ]
    },
    {
     "name": "stderr",
     "output_type": "stream",
     "text": [
      "100%|███████████| 17172/17172 [00:01<00:00, 9979.63it/s]\n"
     ]
    },
    {
     "name": "stdout",
     "output_type": "stream",
     "text": [
      "chr7\n",
      "17283\n"
     ]
    },
    {
     "name": "stderr",
     "output_type": "stream",
     "text": [
      "100%|██████████| 17283/17283 [00:01<00:00, 10028.13it/s]\n"
     ]
    },
    {
     "name": "stdout",
     "output_type": "stream",
     "text": [
      "chr8\n",
      "13740\n"
     ]
    },
    {
     "name": "stderr",
     "output_type": "stream",
     "text": [
      "100%|███████████| 13740/13740 [00:01<00:00, 9951.97it/s]\n"
     ]
    },
    {
     "name": "stdout",
     "output_type": "stream",
     "text": [
      "chr9\n",
      "13590\n"
     ]
    },
    {
     "name": "stderr",
     "output_type": "stream",
     "text": [
      "100%|██████████| 13590/13590 [00:01<00:00, 10336.88it/s]\n"
     ]
    },
    {
     "name": "stdout",
     "output_type": "stream",
     "text": [
      "chrX\n",
      "11692\n"
     ]
    },
    {
     "name": "stderr",
     "output_type": "stream",
     "text": [
      "100%|███████████| 11692/11692 [00:02<00:00, 5723.62it/s]\n"
     ]
    },
    {
     "name": "stdout",
     "output_type": "stream",
     "text": [
      "chrY\n",
      "2455\n"
     ]
    },
    {
     "name": "stderr",
     "output_type": "stream",
     "text": [
      "100%|████████████| 2455/2455 [00:00<00:00, 11135.50it/s]\n"
     ]
    }
   ],
   "source": [
    "null_exons = []\n",
    "for chrom, background_chrom in background.groupby('chr'):\n",
    "    null_exons_chr = []\n",
    "    print(chrom)\n",
    "    background_starts = background_chrom['start'].values\n",
    "    background_ends = background_chrom['end'].values\n",
    "    exon_chrom = exons[exons['chr'] == chrom]\n",
    "    print(len(exon_chrom))\n",
    "    for idx, exon in tqdm(exon_chrom.iterrows(), total=len(exon_chrom)):\n",
    "        null_exons_chr.append(get_closest_background_no_overlap(exon, background_starts, background_ends))\n",
    "    null_exons_chr = pd.DataFrame(null_exons_chr, columns=['start', 'end'])\n",
    "    null_exons_chr['exon_id'] = exon_chrom['exon_id'].values\n",
    "    null_exons_chr['gene_id'] = exon_chrom['gene_id'].values\n",
    "    null_exons_chr['chr'] = chrom\n",
    "    null_exons.append(null_exons_chr)\n",
    "\n",
    "# concat and save\n",
    "null_exons_all_chrs = pd.concat(null_exons)\n",
    "null_exons_all_chrs[['chr', 'start', 'end', 'exon_id', 'gene_id']].to_csv('/home/klawren/oak/gtex/data/other_references/nongenic_null_v10/matched_nongenic_null_intergenic_no_overlap.bed', index=False, header=None, sep = '\\t')"
   ]
  },
  {
   "cell_type": "code",
   "execution_count": 25,
   "metadata": {},
   "outputs": [],
   "source": [
    "# fix the null name to be compatible\n",
    "null_exons_all_chrs['exon_id'] = null_exons_all_chrs['exon_id'].str.split(';').str[0]\n",
    "\n",
    "# merge in the null information\n",
    "null_exons_gtf = pd.merge(gencode_v39_df[gencode_v39_df['Feature'] == 'exon'].reset_index(), null_exons_all_chrs, on='exon_id', suffixes=['', '_null'])\n",
    "# combine into the main gtf based on index \n",
    "null_full_gtf = pd.merge(gencode_v39_df.reset_index(), null_exons_gtf[['index', 'start', 'end']], on='index', how='left', suffixes=['', '_null'])\n",
    "\n",
    "# add gene starts and ends as bounds \n",
    "gene_starts = null_full_gtf.groupby('gene_id').agg({'start':'min', 'end':'max'})\n",
    "null_full_gtf = pd.merge(null_full_gtf, gene_starts, on='gene_id', how='left', suffixes=['', '_gene'])\n",
    "\n",
    "# replace the start and end with the null version\n",
    "null_full_gtf['Start'] = np.where(null_full_gtf['Feature'] == 'exon', null_full_gtf['start'], null_full_gtf['start_gene'])\n",
    "null_full_gtf['End'] = np.where(null_full_gtf['Feature'] == 'exon', null_full_gtf['end'], null_full_gtf['end_gene'])"
   ]
  },
  {
   "cell_type": "code",
   "execution_count": 27,
   "metadata": {},
   "outputs": [],
   "source": [
    "# Function to convert to gtf\n",
    "def df_to_gtf(df, output_file):\n",
    "    with open(output_file, 'w') as f:\n",
    "        f.write(\"##description: nongenic nulls matched to exons from annotation of the human genome (GRCh38), version 39\\n##provider: Kate Lawrence\\n##contact: klawren@stanford.edu\\n##format: gtf\\n##date: 2025-03-28\")\n",
    "        for index, row in df.iterrows():\n",
    "            attributes = f'gene_id \"{row[\"gene_id\"]}\"; transcript_id \"{row[\"transcript_id\"]}\"; exon_id \"{row[\"exon_id\"]}\";'\n",
    "            gtf_line = f'{row[\"Chromosome\"]}\\t{row[\"Source\"]}\\t{row[\"Feature\"]}\\t{row[\"Start\"]}\\t{row[\"End\"]}\\t{row[\"Score\"]}\\t{row[\"Strand\"]}\\t{row[\"Frame\"]}\\t{attributes}\\n'\n",
    "            f.write(gtf_line)\n",
    "\n",
    "df_to_gtf(null_full_gtf, '/home/klawren/oak/gtex/data/realign_references/gencode.v39.matched_nongenic_null_intergenic.gtf')"
   ]
  },
  {
   "cell_type": "code",
   "execution_count": null,
   "metadata": {},
   "outputs": [],
   "source": []
  }
 ],
 "metadata": {
  "kernelspec": {
   "display_name": "Python 3 (ipykernel)",
   "language": "python",
   "name": "python3"
  }
 },
 "nbformat": 4,
 "nbformat_minor": 2
}
