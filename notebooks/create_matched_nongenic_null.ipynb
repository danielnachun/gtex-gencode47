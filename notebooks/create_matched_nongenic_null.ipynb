{
 "cells": [
  {
   "cell_type": "markdown",
   "metadata": {},
   "source": [
    "### lncRNAs quantified? realive to background\n",
    "1. construct backgorund gtf\n",
    "2. map reads with rnaseqc\n",
    "3. compare to see if lncRNAs are quantified"
   ]
  },
  {
   "cell_type": "code",
   "execution_count": 1,
   "metadata": {},
   "outputs": [],
   "source": [
    "import pandas as pd\n",
    "import seaborn as sns\n",
    "import pyranges as pr\n",
    "import numpy as np\n",
    "import bisect\n",
    "\n",
    "from tqdm import tqdm\n",
    "tqdm.pandas()"
   ]
  },
  {
   "cell_type": "markdown",
   "metadata": {},
   "source": [
    "#### create background gtf\n",
    "\n",
    "bed files for exons and background are created with `scripts/analysis/create_matched_nongenic_null.sh`"
   ]
  },
  {
   "cell_type": "code",
   "execution_count": 9,
   "metadata": {},
   "outputs": [],
   "source": [
    "exons = pd.read_csv(\"/home/klawren/oak/gtex/data/other_references/nongenic_null/exons_to_match.bed\", sep='\\t', header=None, names=['chr', 'start', 'end', 'exon_id', 'gene_id'])\n",
    "exons['length'] = exons['end'] - exons['start']\n",
    "exons = exons[~exons['chr'].isin(['chrM'])]\n",
    "\n",
    "# if introns are allowed\n",
    "#background = pd.read_csv(\"/home/klawren/oak/gtex/data/other_references/nongenic_null/background_regions.bed\", sep='\\t', header=None, names=['chr', 'start', 'end'])\n",
    "# if introns aren't allowed \n",
    "background = pd.read_csv(\"/home/klawren/oak/gtex/data/other_references/nongenic_null/intergenic_regions.bed\", sep='\\t', header=None, names=['chr', 'start', 'end'])\n",
    "\n",
    "background = background[background['chr'].isin(exons['chr'].unique())]\n",
    "background = background.sort_values(['chr', 'start'])"
   ]
  },
  {
   "cell_type": "code",
   "execution_count": 10,
   "metadata": {},
   "outputs": [],
   "source": [
    "# load in gencode 47 gtf\n",
    "gencode_v47_path = \"/home/klawren/oak/gtex/data/realign_references/gencode.v47.genes.gtf\"\n",
    "gencode_v47=pr.read_gtf(gencode_v47_path)\n",
    "gencode_v47_df = gencode_v47.as_df()\n",
    "gencode_v47_df = gencode_v47_df[~(gencode_v47_df['Chromosome'] == 'chrM')]"
   ]
  },
  {
   "cell_type": "code",
   "execution_count": 12,
   "metadata": {},
   "outputs": [],
   "source": [
    "def get_closest_background(exon, background_starts, background_ends):\n",
    "    exon_length = exon['end'] - exon['start']\n",
    "    idx_right = bisect.bisect_left(background_starts, exon['start'])\n",
    "    # catch index too far left\n",
    "    while idx_right < len(background_starts) and background_starts[idx_right] < exon['start']:\n",
    "        idx_right += 1\n",
    "\n",
    "    idx_left = idx_right - 1\n",
    "    max_iter = len(background_starts)  # Safety limit\n",
    "    iter_count = 0\n",
    "\n",
    "    while iter_count < max_iter:\n",
    "        iter_count += 1\n",
    "        # Try right side\n",
    "        if idx_right < len(background_starts):\n",
    "            right_start, right_end = background_starts[idx_right], background_ends[idx_right]\n",
    "            if right_end - right_start >= exon_length:\n",
    "                return([right_start, right_start + exon_length])\n",
    "        \n",
    "        # Try left side\n",
    "        if idx_left >= 0:\n",
    "            left_start, left_end = background_starts[idx_left], background_ends[idx_left]\n",
    "            if left_end - left_start >= exon_length:\n",
    "                return([left_end-exon_length, left_end])  \n",
    "        \n",
    "        idx_right += 1\n",
    "        idx_left -= 1"
   ]
  },
  {
   "cell_type": "code",
   "execution_count": 13,
   "metadata": {},
   "outputs": [
    {
     "name": "stdout",
     "output_type": "stream",
     "text": [
      "chr1\n",
      "40634\n"
     ]
    },
    {
     "name": "stderr",
     "output_type": "stream",
     "text": [
      "  0%|                                                                                  | 0/40634 [00:00<?, ?it/s]"
     ]
    },
    {
     "name": "stderr",
     "output_type": "stream",
     "text": [
      "100%|███████████████████████████████████████████████████████████████████| 40634/40634 [00:03<00:00, 10816.37it/s]\n"
     ]
    },
    {
     "name": "stdout",
     "output_type": "stream",
     "text": [
      "chr10\n",
      "18178\n"
     ]
    },
    {
     "name": "stderr",
     "output_type": "stream",
     "text": [
      "100%|████████████████████████████████████████████████████████████████████| 18178/18178 [00:02<00:00, 8558.50it/s]\n"
     ]
    },
    {
     "name": "stdout",
     "output_type": "stream",
     "text": [
      "chr11\n",
      "22260\n"
     ]
    },
    {
     "name": "stderr",
     "output_type": "stream",
     "text": [
      "100%|███████████████████████████████████████████████████████████████████| 22260/22260 [00:02<00:00, 10737.17it/s]\n"
     ]
    },
    {
     "name": "stdout",
     "output_type": "stream",
     "text": [
      "chr12\n",
      "22668\n"
     ]
    },
    {
     "name": "stderr",
     "output_type": "stream",
     "text": [
      "100%|███████████████████████████████████████████████████████████████████| 22668/22668 [00:02<00:00, 10374.39it/s]\n"
     ]
    },
    {
     "name": "stdout",
     "output_type": "stream",
     "text": [
      "chr13\n",
      "9974\n"
     ]
    },
    {
     "name": "stderr",
     "output_type": "stream",
     "text": [
      "100%|██████████████████████████████████████████████████████████████████████| 9974/9974 [00:01<00:00, 8533.34it/s]\n"
     ]
    },
    {
     "name": "stdout",
     "output_type": "stream",
     "text": [
      "chr14\n",
      "13968\n"
     ]
    },
    {
     "name": "stderr",
     "output_type": "stream",
     "text": [
      "100%|███████████████████████████████████████████████████████████████████| 13968/13968 [00:01<00:00, 10580.63it/s]\n"
     ]
    },
    {
     "name": "stdout",
     "output_type": "stream",
     "text": [
      "chr15\n",
      "16029\n"
     ]
    },
    {
     "name": "stderr",
     "output_type": "stream",
     "text": [
      "100%|███████████████████████████████████████████████████████████████████| 16029/16029 [00:01<00:00, 10338.82it/s]\n"
     ]
    },
    {
     "name": "stdout",
     "output_type": "stream",
     "text": [
      "chr16\n",
      "17309\n"
     ]
    },
    {
     "name": "stderr",
     "output_type": "stream",
     "text": [
      "100%|███████████████████████████████████████████████████████████████████| 17309/17309 [00:01<00:00, 11356.09it/s]\n"
     ]
    },
    {
     "name": "stdout",
     "output_type": "stream",
     "text": [
      "chr17\n",
      "21643\n"
     ]
    },
    {
     "name": "stderr",
     "output_type": "stream",
     "text": [
      "100%|███████████████████████████████████████████████████████████████████| 21643/21643 [00:01<00:00, 11426.19it/s]\n"
     ]
    },
    {
     "name": "stdout",
     "output_type": "stream",
     "text": [
      "chr18\n",
      "8780\n"
     ]
    },
    {
     "name": "stderr",
     "output_type": "stream",
     "text": [
      "100%|█████████████████████████████████████████████████████████████████████| 8780/8780 [00:00<00:00, 11302.76it/s]\n"
     ]
    },
    {
     "name": "stdout",
     "output_type": "stream",
     "text": [
      "chr19\n",
      "19577\n"
     ]
    },
    {
     "name": "stderr",
     "output_type": "stream",
     "text": [
      "100%|███████████████████████████████████████████████████████████████████| 19577/19577 [00:01<00:00, 10159.61it/s]\n"
     ]
    },
    {
     "name": "stdout",
     "output_type": "stream",
     "text": [
      "chr2\n",
      "34090\n"
     ]
    },
    {
     "name": "stderr",
     "output_type": "stream",
     "text": [
      "100%|███████████████████████████████████████████████████████████████████| 34090/34090 [00:03<00:00, 10225.10it/s]\n"
     ]
    },
    {
     "name": "stdout",
     "output_type": "stream",
     "text": [
      "chr20\n",
      "10325\n"
     ]
    },
    {
     "name": "stderr",
     "output_type": "stream",
     "text": [
      "100%|███████████████████████████████████████████████████████████████████| 10325/10325 [00:00<00:00, 10515.31it/s]\n"
     ]
    },
    {
     "name": "stdout",
     "output_type": "stream",
     "text": [
      "chr21\n",
      "5669\n"
     ]
    },
    {
     "name": "stderr",
     "output_type": "stream",
     "text": [
      "100%|█████████████████████████████████████████████████████████████████████| 5669/5669 [00:00<00:00, 10490.14it/s]\n"
     ]
    },
    {
     "name": "stdout",
     "output_type": "stream",
     "text": [
      "chr22\n",
      "8897\n"
     ]
    },
    {
     "name": "stderr",
     "output_type": "stream",
     "text": [
      "100%|█████████████████████████████████████████████████████████████████████| 8897/8897 [00:00<00:00, 10488.93it/s]\n"
     ]
    },
    {
     "name": "stdout",
     "output_type": "stream",
     "text": [
      "chr3\n",
      "25401\n"
     ]
    },
    {
     "name": "stderr",
     "output_type": "stream",
     "text": [
      "100%|███████████████████████████████████████████████████████████████████| 25401/25401 [00:02<00:00, 10547.92it/s]\n"
     ]
    },
    {
     "name": "stdout",
     "output_type": "stream",
     "text": [
      "chr4\n",
      "19572\n"
     ]
    },
    {
     "name": "stderr",
     "output_type": "stream",
     "text": [
      "100%|███████████████████████████████████████████████████████████████████| 19572/19572 [00:01<00:00, 10630.69it/s]\n"
     ]
    },
    {
     "name": "stdout",
     "output_type": "stream",
     "text": [
      "chr5\n",
      "21347\n"
     ]
    },
    {
     "name": "stderr",
     "output_type": "stream",
     "text": [
      "100%|███████████████████████████████████████████████████████████████████| 21347/21347 [00:01<00:00, 11053.56it/s]\n"
     ]
    },
    {
     "name": "stdout",
     "output_type": "stream",
     "text": [
      "chr6\n",
      "22511\n"
     ]
    },
    {
     "name": "stderr",
     "output_type": "stream",
     "text": [
      "100%|███████████████████████████████████████████████████████████████████| 22511/22511 [00:02<00:00, 10623.95it/s]\n"
     ]
    },
    {
     "name": "stdout",
     "output_type": "stream",
     "text": [
      "chr7\n",
      "21309\n"
     ]
    },
    {
     "name": "stderr",
     "output_type": "stream",
     "text": [
      "100%|███████████████████████████████████████████████████████████████████| 21309/21309 [00:01<00:00, 11179.71it/s]\n"
     ]
    },
    {
     "name": "stdout",
     "output_type": "stream",
     "text": [
      "chr8\n",
      "17517\n"
     ]
    },
    {
     "name": "stderr",
     "output_type": "stream",
     "text": [
      "100%|███████████████████████████████████████████████████████████████████| 17517/17517 [00:01<00:00, 10331.87it/s]\n"
     ]
    },
    {
     "name": "stdout",
     "output_type": "stream",
     "text": [
      "chr9\n",
      "17794\n"
     ]
    },
    {
     "name": "stderr",
     "output_type": "stream",
     "text": [
      "100%|███████████████████████████████████████████████████████████████████| 17794/17794 [00:01<00:00, 11554.81it/s]\n"
     ]
    },
    {
     "name": "stdout",
     "output_type": "stream",
     "text": [
      "chrX\n",
      "13991\n"
     ]
    },
    {
     "name": "stderr",
     "output_type": "stream",
     "text": [
      "100%|███████████████████████████████████████████████████████████████████| 13991/13991 [00:01<00:00, 10233.72it/s]\n"
     ]
    },
    {
     "name": "stdout",
     "output_type": "stream",
     "text": [
      "chrY\n",
      "2887\n"
     ]
    },
    {
     "name": "stderr",
     "output_type": "stream",
     "text": [
      "100%|█████████████████████████████████████████████████████████████████████| 2887/2887 [00:00<00:00, 11337.53it/s]\n"
     ]
    }
   ],
   "source": [
    "null_exons = []\n",
    "for chrom, background_chrom in background.groupby('chr'):\n",
    "    null_exons_chr = []\n",
    "    print(chrom)\n",
    "    background_starts = background_chrom['start'].values\n",
    "    background_ends = background_chrom['end'].values\n",
    "    exon_chrom = exons[exons['chr'] == chrom]\n",
    "    print(len(exon_chrom))\n",
    "    for idx, exon in tqdm(exon_chrom.iterrows(), total=len(exon_chrom)):\n",
    "        null_exons_chr.append(get_closest_background(exon, background_starts, background_ends))\n",
    "    null_exons_chr = pd.DataFrame(null_exons_chr, columns=['start', 'end'])\n",
    "    null_exons_chr['exon_id'] = exon_chrom['exon_id'].values\n",
    "    null_exons_chr['gene_id'] = exon_chrom['gene_id'].values\n",
    "    null_exons_chr['chr'] = chrom\n",
    "    null_exons.append(null_exons_chr)\n",
    "\n",
    "# concat and save\n",
    "null_exons_all_chrs = pd.concat(null_exons)\n",
    "null_exons_all_chrs[['chr', 'start', 'end', 'exon_id', 'gene_id']].to_csv('/home/klawren/oak/gtex/data/other_references/nongenic_null/matched_nongenic_null_intergenic.bed', index=False, header=None, sep = '\\t')"
   ]
  },
  {
   "cell_type": "markdown",
   "metadata": {},
   "source": [
    "\"each gene have a single transcript whose id matches the parent gene id\" from rnaseqc"
   ]
  },
  {
   "cell_type": "code",
   "execution_count": 14,
   "metadata": {},
   "outputs": [],
   "source": [
    "# fix the null name to be compatible\n",
    "null_exons_all_chrs['exon_id'] = null_exons_all_chrs['exon_id'].str.split(';').str[0]\n",
    "\n",
    "# merge in the null information\n",
    "null_exons_gtf = pd.merge(gencode_v47_df[gencode_v47_df['Feature'] == 'exon'].reset_index(), null_exons_all_chrs, on='exon_id', suffixes=['', '_null'])\n",
    "# combine into the main gtf based on index \n",
    "null_full_gtf = pd.merge(gencode_v47_df.reset_index(), null_exons_gtf[['index', 'start', 'end']], on='index', how='left', suffixes=['', '_null'])\n",
    "\n",
    "# add gene starts and ends as bounds \n",
    "gene_starts = null_full_gtf.groupby('gene_id').agg({'start':'min', 'end':'max'})\n",
    "null_full_gtf = pd.merge(null_full_gtf, gene_starts, on='gene_id', how='left', suffixes=['', '_gene'])\n",
    "\n",
    "# replace the start and end with the null version\n",
    "null_full_gtf['Start'] = np.where(null_full_gtf['Feature'] == 'exon', null_full_gtf['start'], null_full_gtf['start_gene'])\n",
    "null_full_gtf['End'] = np.where(null_full_gtf['Feature'] == 'exon', null_full_gtf['end'], null_full_gtf['end_gene'])"
   ]
  },
  {
   "cell_type": "code",
   "execution_count": 15,
   "metadata": {},
   "outputs": [],
   "source": [
    "# Function to convert to gtf\n",
    "def df_to_gtf(df, output_file):\n",
    "    with open(output_file, 'w') as f:\n",
    "        f.write(\"##description: nongenic nulls matched to exons from annotation of the human genome (GRCh38), version 47 (Ensembl 113)\\n##provider: Kate Lawrence\\n##contact: klawren@stanford.edu\\n##format: gtf\\n##date: 2025-03-21\")\n",
    "        for index, row in df.iterrows():\n",
    "            attributes = f'gene_id \"{row[\"gene_id\"]}\"; transcript_id \"{row[\"transcript_id\"]}\"; exon_id \"{row[\"exon_id\"]}\";'\n",
    "            gtf_line = f'{row[\"Chromosome\"]}\\t{row[\"Source\"]}\\t{row[\"Feature\"]}\\t{row[\"Start\"]}\\t{row[\"End\"]}\\t{row[\"Score\"]}\\t{row[\"Strand\"]}\\t{row[\"Frame\"]}\\t{attributes}\\n'\n",
    "            f.write(gtf_line)\n",
    "\n",
    "df_to_gtf(null_full_gtf, '/home/klawren/oak/gtex/data/other_references/nongenic_null/matched_nongenic_null_intergenic.v47.gtf')"
   ]
  },
  {
   "cell_type": "code",
   "execution_count": null,
   "metadata": {},
   "outputs": [],
   "source": []
  }
 ],
 "metadata": {
  "kernelspec": {
   "display_name": "Python 3 (ipykernel)",
   "language": "python",
   "name": "python3"
  },
  "language_info": {
   "codemirror_mode": {
    "name": "ipython",
    "version": 3
   },
   "file_extension": ".py",
   "mimetype": "text/x-python",
   "name": "python",
   "nbconvert_exporter": "python",
   "pygments_lexer": "ipython3",
   "version": "3.8.18"
  }
 },
 "nbformat": 4,
 "nbformat_minor": 2
}
