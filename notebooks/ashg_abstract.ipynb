{
 "cells": [
  {
   "cell_type": "markdown",
   "metadata": {},
   "source": [
    "get the number of egenes and number sgenes that we find in all tissues (for ASHG abstract)"
   ]
  },
  {
   "cell_type": "code",
   "execution_count": 2,
   "metadata": {},
   "outputs": [],
   "source": [
    "import pandas as pd\n",
    "import glob\n",
    "import os\n",
    "from tqdm.notebook import tqdm"
   ]
  },
  {
   "cell_type": "markdown",
   "metadata": {},
   "source": [
    "which genes are new?"
   ]
  },
  {
   "cell_type": "code",
   "execution_count": 3,
   "metadata": {},
   "outputs": [
    {
     "data": {
      "text/html": [
       "<div>\n",
       "<style scoped>\n",
       "    .dataframe tbody tr th:only-of-type {\n",
       "        vertical-align: middle;\n",
       "    }\n",
       "\n",
       "    .dataframe tbody tr th {\n",
       "        vertical-align: top;\n",
       "    }\n",
       "\n",
       "    .dataframe thead th {\n",
       "        text-align: right;\n",
       "    }\n",
       "</style>\n",
       "<table border=\"1\" class=\"dataframe\">\n",
       "  <thead>\n",
       "    <tr style=\"text-align: right;\">\n",
       "      <th></th>\n",
       "      <th>gene_id_stable</th>\n",
       "      <th>gene_id_v47</th>\n",
       "      <th>gene_id_v39</th>\n",
       "      <th>gene_type_grouped</th>\n",
       "      <th>gene_type_grouped_highlight</th>\n",
       "      <th>in_v47_full</th>\n",
       "      <th>in_v47_collapsed</th>\n",
       "      <th>in_v39_full</th>\n",
       "      <th>in_v39_collapsed</th>\n",
       "      <th>collapsed_location_change_v47</th>\n",
       "      <th>collapsed_location_change_v39</th>\n",
       "      <th>collapsed_location_change_between_versions</th>\n",
       "      <th>full_location_change_between_versions</th>\n",
       "    </tr>\n",
       "  </thead>\n",
       "  <tbody>\n",
       "    <tr>\n",
       "      <th>0</th>\n",
       "      <td>ENSG00000290825</td>\n",
       "      <td>ENSG00000290825.2</td>\n",
       "      <td>NaN</td>\n",
       "      <td>lncRNA</td>\n",
       "      <td>CLS_lncRNA</td>\n",
       "      <td>True</td>\n",
       "      <td>True</td>\n",
       "      <td>False</td>\n",
       "      <td>False</td>\n",
       "      <td>True</td>\n",
       "      <td>False</td>\n",
       "      <td>True</td>\n",
       "      <td>True</td>\n",
       "    </tr>\n",
       "    <tr>\n",
       "      <th>1</th>\n",
       "      <td>ENSG00000223972</td>\n",
       "      <td>ENSG00000223972.6</td>\n",
       "      <td>ENSG00000223972.5</td>\n",
       "      <td>pseudogene</td>\n",
       "      <td>pseudogene</td>\n",
       "      <td>True</td>\n",
       "      <td>True</td>\n",
       "      <td>True</td>\n",
       "      <td>True</td>\n",
       "      <td>True</td>\n",
       "      <td>True</td>\n",
       "      <td>True</td>\n",
       "      <td>True</td>\n",
       "    </tr>\n",
       "    <tr>\n",
       "      <th>2</th>\n",
       "      <td>ENSG00000243485</td>\n",
       "      <td>ENSG00000243485.6</td>\n",
       "      <td>ENSG00000243485.5</td>\n",
       "      <td>lncRNA</td>\n",
       "      <td>other_lncRNA</td>\n",
       "      <td>True</td>\n",
       "      <td>True</td>\n",
       "      <td>True</td>\n",
       "      <td>True</td>\n",
       "      <td>False</td>\n",
       "      <td>True</td>\n",
       "      <td>True</td>\n",
       "      <td>True</td>\n",
       "    </tr>\n",
       "    <tr>\n",
       "      <th>3</th>\n",
       "      <td>ENSG00000308361</td>\n",
       "      <td>ENSG00000308361.1</td>\n",
       "      <td>NaN</td>\n",
       "      <td>lncRNA</td>\n",
       "      <td>CLS_lncRNA</td>\n",
       "      <td>True</td>\n",
       "      <td>True</td>\n",
       "      <td>False</td>\n",
       "      <td>False</td>\n",
       "      <td>False</td>\n",
       "      <td>False</td>\n",
       "      <td>True</td>\n",
       "      <td>True</td>\n",
       "    </tr>\n",
       "    <tr>\n",
       "      <th>4</th>\n",
       "      <td>ENSG00000290826</td>\n",
       "      <td>ENSG00000290826.2</td>\n",
       "      <td>NaN</td>\n",
       "      <td>lncRNA</td>\n",
       "      <td>CLS_lncRNA</td>\n",
       "      <td>True</td>\n",
       "      <td>True</td>\n",
       "      <td>False</td>\n",
       "      <td>False</td>\n",
       "      <td>False</td>\n",
       "      <td>False</td>\n",
       "      <td>True</td>\n",
       "      <td>True</td>\n",
       "    </tr>\n",
       "  </tbody>\n",
       "</table>\n",
       "</div>"
      ],
      "text/plain": [
       "    gene_id_stable        gene_id_v47        gene_id_v39 gene_type_grouped  \\\n",
       "0  ENSG00000290825  ENSG00000290825.2                NaN            lncRNA   \n",
       "1  ENSG00000223972  ENSG00000223972.6  ENSG00000223972.5        pseudogene   \n",
       "2  ENSG00000243485  ENSG00000243485.6  ENSG00000243485.5            lncRNA   \n",
       "3  ENSG00000308361  ENSG00000308361.1                NaN            lncRNA   \n",
       "4  ENSG00000290826  ENSG00000290826.2                NaN            lncRNA   \n",
       "\n",
       "  gene_type_grouped_highlight  in_v47_full  in_v47_collapsed  in_v39_full  \\\n",
       "0                  CLS_lncRNA         True              True        False   \n",
       "1                  pseudogene         True              True         True   \n",
       "2                other_lncRNA         True              True         True   \n",
       "3                  CLS_lncRNA         True              True        False   \n",
       "4                  CLS_lncRNA         True              True        False   \n",
       "\n",
       "   in_v39_collapsed  collapsed_location_change_v47  \\\n",
       "0             False                           True   \n",
       "1              True                           True   \n",
       "2              True                          False   \n",
       "3             False                          False   \n",
       "4             False                          False   \n",
       "\n",
       "   collapsed_location_change_v39  collapsed_location_change_between_versions  \\\n",
       "0                          False                                        True   \n",
       "1                           True                                        True   \n",
       "2                           True                                        True   \n",
       "3                          False                                        True   \n",
       "4                          False                                        True   \n",
       "\n",
       "   full_location_change_between_versions  \n",
       "0                                   True  \n",
       "1                                   True  \n",
       "2                                   True  \n",
       "3                                   True  \n",
       "4                                   True  "
      ]
     },
     "execution_count": 3,
     "metadata": {},
     "output_type": "execute_result"
    }
   ],
   "source": [
    "# pull in the gene ids\n",
    "gencode_ids = pd.read_csv('/home/klawren/oak/gtex/data/other_references/gencode/gencode_id_matching_simplified.txt', sep='\\t', index_col=0)\n",
    "gencode_ids = gencode_ids[~(gencode_ids['gene_type_grouped'] == 'artifact')]\n",
    "gencode_ids.head()"
   ]
  },
  {
   "cell_type": "code",
   "execution_count": 4,
   "metadata": {},
   "outputs": [
    {
     "name": "stdout",
     "output_type": "stream",
     "text": [
      "There are 34914 lncRNAs in v47, 18307 of them are not in v39\n"
     ]
    }
   ],
   "source": [
    "new_lncRNA_filter = ((gencode_ids['gene_type_grouped'] == 'lncRNA') & ~(gencode_ids['in_v39_full']))\n",
    "all_lncRNA_filter = ((gencode_ids['gene_type_grouped'] == 'lncRNA') & (gencode_ids['in_v47_full']))\n",
    "print('There are {} lncRNAs in v47, {} of them are not in v39'.format(sum(all_lncRNA_filter), sum(new_lncRNA_filter)))"
   ]
  },
  {
   "cell_type": "markdown",
   "metadata": {},
   "source": [
    "how many egenes do we find?"
   ]
  },
  {
   "cell_type": "code",
   "execution_count": 5,
   "metadata": {},
   "outputs": [
    {
     "data": {
      "application/vnd.jupyter.widget-view+json": {
       "model_id": "7f44b23d09a342938bca33da68b8d967",
       "version_major": 2,
       "version_minor": 0
      },
      "text/plain": [
       "  0%|          | 0/29 [00:00<?, ?it/s]"
      ]
     },
     "metadata": {},
     "output_type": "display_data"
    }
   ],
   "source": [
    "# load in all eGene summary files\n",
    "egene_pattern = os.path.join('/home/klawren/oak/gtex/output/all_tissues/eqtls', '*.v11.eGenes.txt.gz')\n",
    "egene_files = glob.glob(egene_pattern)\n",
    "\n",
    "egenes = []\n",
    "for egene_file in tqdm(egene_files):\n",
    "    tissue_egene_df = pd.read_csv(egene_file, sep='\\t')\n",
    "    tissue_egene_df['tissue_id'] = egene_file.split('/')[-1].split('.v11')[0]\n",
    "    egenes.append(tissue_egene_df)\n",
    "    \n",
    "egenes = pd.concat(egenes)"
   ]
  },
  {
   "cell_type": "code",
   "execution_count": 6,
   "metadata": {},
   "outputs": [
    {
     "name": "stdout",
     "output_type": "stream",
     "text": [
      "8612 (47.04%) new lncRNAs were tested as possible eGenes\n",
      "20180 (57.80%) all lncRNAs were tested as possible eGenes\n"
     ]
    }
   ],
   "source": [
    "# how many were tested?\n",
    "gencode_ids['tested_egene'] = gencode_ids['gene_id_v47'].isin(egenes['gene_id'])\n",
    "\n",
    "print('{} ({:.2f}%) new lncRNAs were tested as possible eGenes'.format(gencode_ids[new_lncRNA_filter]['tested_egene'].sum(), gencode_ids[new_lncRNA_filter]['tested_egene'].mean()*100))\n",
    "print('{} ({:.2f}%) all lncRNAs were tested as possible eGenes'.format(gencode_ids[all_lncRNA_filter]['tested_egene'].sum(), gencode_ids[all_lncRNA_filter]['tested_egene'].mean()*100))"
   ]
  },
  {
   "cell_type": "code",
   "execution_count": 7,
   "metadata": {},
   "outputs": [
    {
     "name": "stdout",
     "output_type": "stream",
     "text": [
      "6106 (33.35%) new lncRNAs are eGenes\n",
      "15716 (45.01%) all lncRNAs are eGenes\n"
     ]
    }
   ],
   "source": [
    "# we use a 5% FDR for eGenes\n",
    "signifigant_egenes = egenes[egenes['qval'] < 0.05]\n",
    "gencode_ids['is_egene'] = gencode_ids['gene_id_v47'].isin(signifigant_egenes['gene_id'])\n",
    "\n",
    "# how many lncRNAs are signifigant?\n",
    "print('{} ({:.2f}%) new lncRNAs are eGenes'.format(gencode_ids[new_lncRNA_filter]['is_egene'].sum(), gencode_ids[new_lncRNA_filter]['is_egene'].mean()*100))\n",
    "print('{} ({:.2f}%) all lncRNAs are eGenes'.format(gencode_ids[all_lncRNA_filter]['is_egene'].sum(), gencode_ids[all_lncRNA_filter]['is_egene'].mean()*100))"
   ]
  },
  {
   "cell_type": "markdown",
   "metadata": {},
   "source": [
    "how many sgenes do we find?"
   ]
  },
  {
   "cell_type": "code",
   "execution_count": 8,
   "metadata": {},
   "outputs": [
    {
     "data": {
      "application/vnd.jupyter.widget-view+json": {
       "model_id": "ee5ca42c7e9246939a4568723eecc445",
       "version_major": 2,
       "version_minor": 0
      },
      "text/plain": [
       "  0%|          | 0/29 [00:00<?, ?it/s]"
      ]
     },
     "metadata": {},
     "output_type": "display_data"
    }
   ],
   "source": [
    "# load in all eGene summary files\n",
    "sgene_pattern = os.path.join('/home/klawren/oak/gtex/output/all_tissues/sqtls', '*.v11.sGenes.txt.gz')\n",
    "sgene_files = glob.glob(sgene_pattern)\n",
    "\n",
    "sgenes = []\n",
    "for sgene_file in tqdm(sgene_files):\n",
    "    tissue_sgene_df = pd.read_csv(sgene_file, sep='\\t')\n",
    "    tissue_sgene_df['tissue_id'] = sgene_file.split('/')[-1].split('.v11')[0]\n",
    "    sgenes.append(tissue_sgene_df)\n",
    "sgenes = pd.concat(sgenes)"
   ]
  },
  {
   "cell_type": "code",
   "execution_count": 9,
   "metadata": {},
   "outputs": [
    {
     "name": "stdout",
     "output_type": "stream",
     "text": [
      "1987 (10.85%) new lncRNAs were tested as possible sGenes\n",
      "6056 (17.35%) all lncRNAs were tested as possible sGenes\n"
     ]
    }
   ],
   "source": [
    "# how many were tested?\n",
    "gencode_ids['tested_sgene'] = gencode_ids['gene_id_v47'].isin(sgenes['gene_id'])\n",
    "\n",
    "print('{} ({:.2f}%) new lncRNAs were tested as possible sGenes'.format(gencode_ids[new_lncRNA_filter]['tested_sgene'].sum(), gencode_ids[new_lncRNA_filter]['tested_sgene'].mean()*100))\n",
    "print('{} ({:.2f}%) all lncRNAs were tested as possible sGenes'.format(gencode_ids[all_lncRNA_filter]['tested_sgene'].sum(), gencode_ids[all_lncRNA_filter]['tested_sgene'].mean()*100))"
   ]
  },
  {
   "cell_type": "code",
   "execution_count": 10,
   "metadata": {},
   "outputs": [
    {
     "name": "stdout",
     "output_type": "stream",
     "text": [
      "887 (4.85%) new lncRNAs are sGenes\n",
      "2773 (7.94%) all lncRNAs are sGenes\n"
     ]
    }
   ],
   "source": [
    "# we use a 5% FDR for sGenes\n",
    "signifigant_sgenes = sgenes[sgenes['qval'] < 0.05]\n",
    "gencode_ids['is_sgene'] = gencode_ids['gene_id_v47'].isin(signifigant_sgenes['gene_id'])\n",
    "\n",
    "# how many lncRNAs are signifigant?\n",
    "print('{} ({:.2f}%) new lncRNAs are sGenes'.format(gencode_ids[new_lncRNA_filter]['is_sgene'].sum(), gencode_ids[new_lncRNA_filter]['is_sgene'].mean()*100))\n",
    "print('{} ({:.2f}%) all lncRNAs are sGenes'.format(gencode_ids[all_lncRNA_filter]['is_sgene'].sum(), gencode_ids[all_lncRNA_filter]['is_sgene'].mean()*100))"
   ]
  }
 ],
 "metadata": {
  "kernelspec": {
   "display_name": "Python 3 (ipykernel)",
   "language": "python",
   "name": "python3"
  },
  "language_info": {
   "codemirror_mode": {
    "name": "ipython",
    "version": 3
   },
   "file_extension": ".py",
   "mimetype": "text/x-python",
   "name": "python",
   "nbconvert_exporter": "python",
   "pygments_lexer": "ipython3",
   "version": "3.12.10"
  }
 },
 "nbformat": 4,
 "nbformat_minor": 2
}
