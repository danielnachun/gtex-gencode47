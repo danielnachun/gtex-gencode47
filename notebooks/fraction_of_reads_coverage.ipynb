{
 "cells": [
  {
   "cell_type": "markdown",
   "id": "9181f6e5",
   "metadata": {},
   "source": [
    "what fraction of reads are in the new transcripts?\n",
    "what fraction of reads are in regions that are newy overlapping?\n",
    "\n",
    "\n",
    "maybe eventualy update this to use featureCounts with and without overlapping mode (to get directly at overlapping reads)"
   ]
  },
  {
   "cell_type": "code",
   "execution_count": 2,
   "id": "53cd569b",
   "metadata": {},
   "outputs": [],
   "source": [
    "import pandas as pd\n",
    "import numpy as np\n",
    "import matplotlib.pyplot as plt\n",
    "import seaborn as sns"
   ]
  },
  {
   "cell_type": "code",
   "execution_count": null,
   "id": "00583263",
   "metadata": {},
   "outputs": [],
   "source": [
    "genode_matching"
   ]
  }
 ],
 "metadata": {
  "kernelspec": {
   "display_name": "Python 3 (ipykernel)",
   "language": "python",
   "name": "python3"
  },
  "language_info": {
   "codemirror_mode": {
    "name": "ipython",
    "version": 3
   },
   "file_extension": ".py",
   "mimetype": "text/x-python",
   "name": "python",
   "nbconvert_exporter": "python",
   "pygments_lexer": "ipython3",
   "version": "3.12.11"
  }
 },
 "nbformat": 4,
 "nbformat_minor": 5
}
