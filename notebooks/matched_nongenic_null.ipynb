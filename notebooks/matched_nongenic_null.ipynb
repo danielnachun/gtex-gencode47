{
 "cells": [
  {
   "cell_type": "markdown",
   "metadata": {},
   "source": [
    "### lncRNAs quantified? realive to background\n",
    "1. construct backgorund gtf\n",
    "2. map reads with rnaseqc\n",
    "3. compare to see if lncRNAs are quantified"
   ]
  },
  {
   "cell_type": "code",
   "execution_count": null,
   "metadata": {},
   "outputs": [],
   "source": [
    "import pandas as pd\n",
    "import seaborn as sns\n",
    "import pyranges as pr\n",
    "import numpy as np\n",
    "import bisect\n",
    "\n",
    "from tqdm import tqdm\n",
    "tqdm.pandas()"
   ]
  },
  {
   "cell_type": "markdown",
   "metadata": {},
   "source": [
    "#### create background gtf"
   ]
  },
  {
   "cell_type": "code",
   "execution_count": 217,
   "metadata": {},
   "outputs": [],
   "source": [
    "exons = pd.read_csv(\"/home/klawren/oak/gtex/data/other_references/nongenic_null/all_exons.bed\", sep='\\t', header=None, names=['chr', 'start', 'end', 'exon_id', 'gene_id'])\n",
    "exons['length'] = exons['end'] - exons['start']\n",
    "exons = exons[~exons['chr'].isin(['chrM'])]\n",
    "background = pd.read_csv(\"/home/klawren/oak/gtex/data/other_references/nongenic_null/background_regions.bed\", sep='\\t', header=None, names=['chr', 'start', 'end'])\n",
    "background = background[background['chr'].isin(exons['chr'].unique())]\n",
    "background = background.sort_values(['chr', 'start'])"
   ]
  },
  {
   "cell_type": "code",
   "execution_count": 218,
   "metadata": {},
   "outputs": [],
   "source": [
    "def get_closest_exon(exon, background_starts, background_ends):\n",
    "    exon_length = exon['end'] - exon['start']\n",
    "    idx_right = bisect.bisect_left(background_starts, exon['start'])\n",
    "    # catch index too far left\n",
    "    while idx_right < len(background_starts) and background_starts[idx_right] < exon['start']:\n",
    "        idx_right += 1\n",
    "\n",
    "    idx_left = idx_right - 1\n",
    "    found = False\n",
    "    max_iter = len(background_starts)  # Safety limit\n",
    "    iter_count = 0\n",
    "    fits_right=False\n",
    "    fits_left=False\n",
    "\n",
    "    while not found and iter_count < max_iter:\n",
    "        iter_count += 1\n",
    "        # Try right side\n",
    "        if idx_right < len(background_starts):\n",
    "            right_start, right_end = background_starts[idx_right], background_ends[idx_right]\n",
    "            if right_end - right_start >= exon_length:\n",
    "                fits_right=True\n",
    "        \n",
    "        # Try left side\n",
    "        if idx_left >= 0:\n",
    "            left_start, left_end = background_starts[idx_left], background_ends[idx_left]\n",
    "            if left_end - left_start >= exon_length:\n",
    "                fits_left=True\n",
    "            \n",
    "        if fits_right and fits_left:\n",
    "            # if both fit, compare distances\n",
    "            right_distance = right_start - exon['end']\n",
    "            left_distance = exon['start'] - left_end\n",
    "            if right_distance < left_distance:\n",
    "                return([right_start, right_start + exon_length])\n",
    "            else:\n",
    "                return([left_end-exon_length, left_end])\n",
    "        elif fits_right:\n",
    "            return([right_start, right_start + exon_length])\n",
    "        elif fits_left:\n",
    "            return([left_end-exon_length, left_end])\n",
    "        \n",
    "        idx_right += 1\n",
    "        idx_left -= 1\n",
    "        fits_right=False\n",
    "        fits_left=False\n"
   ]
  },
  {
   "cell_type": "code",
   "execution_count": 219,
   "metadata": {},
   "outputs": [
    {
     "name": "stdout",
     "output_type": "stream",
     "text": [
      "chr1\n",
      "40634\n"
     ]
    },
    {
     "name": "stderr",
     "output_type": "stream",
     "text": [
      "100%|███████████████████████████████████████████████████████████████████████████████████| 40634/40634 [00:04<00:00, 8700.44it/s]\n"
     ]
    },
    {
     "name": "stdout",
     "output_type": "stream",
     "text": [
      "chr10\n",
      "18178\n"
     ]
    },
    {
     "name": "stderr",
     "output_type": "stream",
     "text": [
      "100%|██████████████████████████████████████████████████████████████████████████████████| 18178/18178 [00:01<00:00, 10069.43it/s]\n"
     ]
    },
    {
     "name": "stdout",
     "output_type": "stream",
     "text": [
      "chr11\n",
      "22260\n"
     ]
    },
    {
     "name": "stderr",
     "output_type": "stream",
     "text": [
      "100%|███████████████████████████████████████████████████████████████████████████████████| 22260/22260 [00:02<00:00, 9694.41it/s]\n"
     ]
    },
    {
     "name": "stdout",
     "output_type": "stream",
     "text": [
      "chr12\n",
      "22668\n"
     ]
    },
    {
     "name": "stderr",
     "output_type": "stream",
     "text": [
      " ... (more hidden) ...\n"
     ]
    },
    {
     "name": "stdout",
     "output_type": "stream",
     "text": [
      "chr13\n",
      "9974\n"
     ]
    },
    {
     "name": "stderr",
     "output_type": "stream",
     "text": [
      " ... (more hidden) ...\n"
     ]
    },
    {
     "name": "stdout",
     "output_type": "stream",
     "text": [
      "chr14\n",
      "13968\n"
     ]
    },
    {
     "name": "stderr",
     "output_type": "stream",
     "text": [
      " ... (more hidden) ...\n"
     ]
    },
    {
     "name": "stdout",
     "output_type": "stream",
     "text": [
      "chr15\n",
      "16029\n"
     ]
    },
    {
     "name": "stderr",
     "output_type": "stream",
     "text": [
      " ... (more hidden) ...\n"
     ]
    },
    {
     "name": "stdout",
     "output_type": "stream",
     "text": [
      "chr16\n",
      "17309\n"
     ]
    },
    {
     "name": "stderr",
     "output_type": "stream",
     "text": [
      " ... (more hidden) ...\n"
     ]
    },
    {
     "name": "stdout",
     "output_type": "stream",
     "text": [
      "chr17\n",
      "21643\n"
     ]
    },
    {
     "name": "stderr",
     "output_type": "stream",
     "text": [
      " ... (more hidden) ...\n"
     ]
    },
    {
     "name": "stdout",
     "output_type": "stream",
     "text": [
      "chr18\n",
      "8780\n"
     ]
    },
    {
     "name": "stderr",
     "output_type": "stream",
     "text": [
      " ... (more hidden) ...\n"
     ]
    },
    {
     "name": "stdout",
     "output_type": "stream",
     "text": [
      "chr19\n",
      "19577\n"
     ]
    },
    {
     "name": "stderr",
     "output_type": "stream",
     "text": [
      " ... (more hidden) ...\n"
     ]
    },
    {
     "name": "stdout",
     "output_type": "stream",
     "text": [
      "chr2\n",
      "34090\n"
     ]
    },
    {
     "name": "stderr",
     "output_type": "stream",
     "text": [
      " ... (more hidden) ...\n"
     ]
    },
    {
     "name": "stdout",
     "output_type": "stream",
     "text": [
      "chr20\n",
      "10325\n"
     ]
    },
    {
     "name": "stderr",
     "output_type": "stream",
     "text": [
      " ... (more hidden) ...\n"
     ]
    },
    {
     "name": "stdout",
     "output_type": "stream",
     "text": [
      "chr21\n",
      "5669\n"
     ]
    },
    {
     "name": "stderr",
     "output_type": "stream",
     "text": [
      " ... (more hidden) ...\n"
     ]
    },
    {
     "name": "stdout",
     "output_type": "stream",
     "text": [
      "chr22\n",
      "8897\n"
     ]
    },
    {
     "name": "stderr",
     "output_type": "stream",
     "text": [
      " ... (more hidden) ...\n"
     ]
    },
    {
     "name": "stdout",
     "output_type": "stream",
     "text": [
      "chr3\n",
      "25401\n"
     ]
    },
    {
     "name": "stderr",
     "output_type": "stream",
     "text": [
      " ... (more hidden) ...\n"
     ]
    },
    {
     "name": "stdout",
     "output_type": "stream",
     "text": [
      "chr4\n",
      "19572\n"
     ]
    },
    {
     "name": "stderr",
     "output_type": "stream",
     "text": [
      " ... (more hidden) ...\n"
     ]
    },
    {
     "name": "stdout",
     "output_type": "stream",
     "text": [
      "chr5\n",
      "21347\n"
     ]
    },
    {
     "name": "stderr",
     "output_type": "stream",
     "text": [
      " ... (more hidden) ...\n"
     ]
    },
    {
     "name": "stdout",
     "output_type": "stream",
     "text": [
      "chr6\n",
      "22511\n"
     ]
    },
    {
     "name": "stderr",
     "output_type": "stream",
     "text": [
      " ... (more hidden) ...\n"
     ]
    },
    {
     "name": "stdout",
     "output_type": "stream",
     "text": [
      "chr7\n",
      "21309\n"
     ]
    },
    {
     "name": "stderr",
     "output_type": "stream",
     "text": [
      " ... (more hidden) ...\n"
     ]
    },
    {
     "name": "stdout",
     "output_type": "stream",
     "text": [
      "chr8\n",
      "17517\n"
     ]
    },
    {
     "name": "stderr",
     "output_type": "stream",
     "text": [
      " ... (more hidden) ...\n"
     ]
    },
    {
     "name": "stdout",
     "output_type": "stream",
     "text": [
      "chr9\n",
      "17794\n"
     ]
    },
    {
     "name": "stderr",
     "output_type": "stream",
     "text": [
      " ... (more hidden) ...\n"
     ]
    },
    {
     "name": "stdout",
     "output_type": "stream",
     "text": [
      "chrX\n",
      "13991\n"
     ]
    },
    {
     "name": "stderr",
     "output_type": "stream",
     "text": [
      " ... (more hidden) ...\n"
     ]
    },
    {
     "name": "stdout",
     "output_type": "stream",
     "text": [
      "chrY\n",
      "2887\n"
     ]
    },
    {
     "name": "stderr",
     "output_type": "stream",
     "text": [
      " ... (more hidden) ...\n"
     ]
    }
   ],
   "source": [
    "null_exons = []\n",
    "for chrom, background_chrom in background.groupby('chr'):\n",
    "    null_exons_chr = []\n",
    "    print(chrom)\n",
    "    background_starts = background_chrom['start'].values\n",
    "    background_ends = background_chrom['end'].values\n",
    "    exon_chrom = exons[exons['chr'] == chrom]\n",
    "    print(len(exon_chrom))\n",
    "    for idx, exon in tqdm(exon_chrom.iterrows(), total=len(exon_chrom)):\n",
    "        null_exons_chr.append(get_closest_exon(exon, background_starts, background_ends))\n",
    "    null_exons_chr = pd.DataFrame(null_exons_chr, columns=['start', 'end'])\n",
    "    null_exons_chr['exon_id'] = exon_chrom['exon_id'].values\n",
    "    null_exons_chr['gene_id'] = exon_chrom['gene_id'].values\n",
    "    null_exons_chr['chr'] = chrom\n",
    "    null_exons.append(null_exons_chr)"
   ]
  },
  {
   "cell_type": "code",
   "execution_count": 220,
   "metadata": {},
   "outputs": [],
   "source": [
    "null_exons_all_chrs = pd.concat(null_exons)"
   ]
  },
  {
   "cell_type": "code",
   "execution_count": 221,
   "metadata": {},
   "outputs": [
    {
     "data": {
      "text/html": [
       "<div>\n",
       "<style scoped>\n",
       "    .dataframe tbody tr th:only-of-type {\n",
       "        vertical-align: middle;\n",
       "    }\n",
       "\n",
       "    .dataframe tbody tr th {\n",
       "        vertical-align: top;\n",
       "    }\n",
       "\n",
       "    .dataframe thead th {\n",
       "        text-align: right;\n",
       "    }\n",
       "</style>\n",
       "<table border=\"1\" class=\"dataframe\">\n",
       "  <thead>\n",
       "    <tr style=\"text-align: right;\">\n",
       "      <th></th>\n",
       "      <th>start</th>\n",
       "      <th>end</th>\n",
       "      <th>exon_id</th>\n",
       "      <th>gene_id</th>\n",
       "      <th>chr</th>\n",
       "    </tr>\n",
       "  </thead>\n",
       "  <tbody>\n",
       "    <tr>\n",
       "      <th>0</th>\n",
       "      <td>10929</td>\n",
       "      <td>11020</td>\n",
       "      <td>ENSG00000290825.2_1; exon_number 1</td>\n",
       "      <td>ENSG00000290825.2</td>\n",
       "      <td>chr1</td>\n",
       "    </tr>\n",
       "    <tr>\n",
       "      <th>1</th>\n",
       "      <td>10758</td>\n",
       "      <td>11020</td>\n",
       "      <td>ENSG00000290825.2_2; exon_number 2</td>\n",
       "      <td>ENSG00000290825.2</td>\n",
       "      <td>chr1</td>\n",
       "    </tr>\n",
       "    <tr>\n",
       "      <th>2</th>\n",
       "      <td>10945</td>\n",
       "      <td>11020</td>\n",
       "      <td>ENSG00000290825.2_3; exon_number 3</td>\n",
       "      <td>ENSG00000290825.2</td>\n",
       "      <td>chr1</td>\n",
       "    </tr>\n",
       "    <tr>\n",
       "      <th>3</th>\n",
       "      <td>10855</td>\n",
       "      <td>11020</td>\n",
       "      <td>ENSG00000290825.2_4; exon_number 4</td>\n",
       "      <td>ENSG00000290825.2</td>\n",
       "      <td>chr1</td>\n",
       "    </tr>\n",
       "    <tr>\n",
       "      <th>4</th>\n",
       "      <td>10899</td>\n",
       "      <td>11020</td>\n",
       "      <td>ENSG00000290825.2_5; exon_number 5</td>\n",
       "      <td>ENSG00000290825.2</td>\n",
       "      <td>chr1</td>\n",
       "    </tr>\n",
       "    <tr>\n",
       "      <th>...</th>\n",
       "      <td>...</td>\n",
       "      <td>...</td>\n",
       "      <td>...</td>\n",
       "      <td>...</td>\n",
       "      <td>...</td>\n",
       "    </tr>\n",
       "    <tr>\n",
       "      <th>2882</th>\n",
       "      <td>57212948</td>\n",
       "      <td>57213025</td>\n",
       "      <td>ENSG00000292371.1_1; exon_number 1</td>\n",
       "      <td>ENSG00000292371.1</td>\n",
       "      <td>chrY</td>\n",
       "    </tr>\n",
       "    <tr>\n",
       "      <th>2883</th>\n",
       "      <td>57213731</td>\n",
       "      <td>57213755</td>\n",
       "      <td>ENSG00000310542.1_4; exon_number 4</td>\n",
       "      <td>ENSG00000310542.1</td>\n",
       "      <td>chrY</td>\n",
       "    </tr>\n",
       "    <tr>\n",
       "      <th>2884</th>\n",
       "      <td>57214082</td>\n",
       "      <td>57214100</td>\n",
       "      <td>ENSG00000310542.1_3; exon_number 3</td>\n",
       "      <td>ENSG00000310542.1</td>\n",
       "      <td>chrY</td>\n",
       "    </tr>\n",
       "    <tr>\n",
       "      <th>2885</th>\n",
       "      <td>57214830</td>\n",
       "      <td>57215163</td>\n",
       "      <td>ENSG00000310542.1_2; exon_number 2</td>\n",
       "      <td>ENSG00000310542.1</td>\n",
       "      <td>chrY</td>\n",
       "    </tr>\n",
       "    <tr>\n",
       "      <th>2886</th>\n",
       "      <td>57214998</td>\n",
       "      <td>57215266</td>\n",
       "      <td>ENSG00000310542.1_1; exon_number 1</td>\n",
       "      <td>ENSG00000310542.1</td>\n",
       "      <td>chrY</td>\n",
       "    </tr>\n",
       "  </tbody>\n",
       "</table>\n",
       "<p>432330 rows × 5 columns</p>\n",
       "</div>"
      ],
      "text/plain": [
       "         start       end                             exon_id  \\\n",
       "0        10929     11020  ENSG00000290825.2_1; exon_number 1   \n",
       "1        10758     11020  ENSG00000290825.2_2; exon_number 2   \n",
       "2        10945     11020  ENSG00000290825.2_3; exon_number 3   \n",
       "3        10855     11020  ENSG00000290825.2_4; exon_number 4   \n",
       "4        10899     11020  ENSG00000290825.2_5; exon_number 5   \n",
       "...        ...       ...                                 ...   \n",
       "2882  57212948  57213025  ENSG00000292371.1_1; exon_number 1   \n",
       "2883  57213731  57213755  ENSG00000310542.1_4; exon_number 4   \n",
       "2884  57214082  57214100  ENSG00000310542.1_3; exon_number 3   \n",
       "2885  57214830  57215163  ENSG00000310542.1_2; exon_number 2   \n",
       "2886  57214998  57215266  ENSG00000310542.1_1; exon_number 1   \n",
       "\n",
       "                gene_id   chr  \n",
       "0     ENSG00000290825.2  chr1  \n",
       "1     ENSG00000290825.2  chr1  \n",
       "2     ENSG00000290825.2  chr1  \n",
       "3     ENSG00000290825.2  chr1  \n",
       "4     ENSG00000290825.2  chr1  \n",
       "...                 ...   ...  \n",
       "2882  ENSG00000292371.1  chrY  \n",
       "2883  ENSG00000310542.1  chrY  \n",
       "2884  ENSG00000310542.1  chrY  \n",
       "2885  ENSG00000310542.1  chrY  \n",
       "2886  ENSG00000310542.1  chrY  \n",
       "\n",
       "[432330 rows x 5 columns]"
      ]
     },
     "execution_count": 221,
     "metadata": {},
     "output_type": "execute_result"
    }
   ],
   "source": [
    "null_exons_all_chrs"
   ]
  },
  {
   "cell_type": "code",
   "execution_count": 225,
   "metadata": {},
   "outputs": [],
   "source": [
    "null_exons_all_chrs[['chr', 'start', 'end', 'exon_id', 'gene_id']].to_csv('/home/klawren/oak/gtex/data/other_references/nongenic_null/matched_nongenic_null.bed', index=False, header=None, sep = '\\t')"
   ]
  },
  {
   "cell_type": "code",
   "execution_count": 226,
   "metadata": {},
   "outputs": [],
   "source": [
    "gencode_v47_path = \"/home/klawren/oak/gtex/data/realign_references/gencode.v47.genes.gtf\"\n",
    "gencode_v47=pr.read_gtf(gencode_v47_path)\n",
    "gencode_v47_df = gencode_v47.as_df()"
   ]
  },
  {
   "cell_type": "code",
   "execution_count": 232,
   "metadata": {},
   "outputs": [],
   "source": [
    "gencode_v47_df = gencode_v47_df[~(gencode_v47_df['Chromosome'] == 'chrM')]"
   ]
  },
  {
   "cell_type": "markdown",
   "metadata": {},
   "source": [
    "\"each gene have a single transcript whose id matches the parent gene id\" from rnaseqc"
   ]
  },
  {
   "cell_type": "code",
   "execution_count": null,
   "metadata": {},
   "outputs": [],
   "source": [
    "# fix the null name to be compatible\n",
    "null_exons_all_chrs['exon_id'] = null_exons_all_chrs['exon_id'].str.split(';').str[0]"
   ]
  },
  {
   "cell_type": "code",
   "execution_count": 261,
   "metadata": {},
   "outputs": [
    {
     "data": {
      "text/plain": [
       "432330"
      ]
     },
     "execution_count": 261,
     "metadata": {},
     "output_type": "execute_result"
    }
   ],
   "source": [
    "len(null_exons_all_chrs)"
   ]
  },
  {
   "cell_type": "code",
   "execution_count": 262,
   "metadata": {},
   "outputs": [
    {
     "data": {
      "text/plain": [
       "581512"
      ]
     },
     "execution_count": 262,
     "metadata": {},
     "output_type": "execute_result"
    }
   ],
   "source": [
    "len(gencode_v47_df)"
   ]
  },
  {
   "cell_type": "code",
   "execution_count": null,
   "metadata": {},
   "outputs": [],
   "source": [
    "# merge in the null information\n",
    "null_exons_gtf = pd.merge(gencode_v47_df[gencode_v47_df['Feature'] == 'exon'].reset_index(), null_exons_all_chrs, on='exon_id', suffixes=['', '_null'])\n",
    "# combine into the main gtf based on index \n",
    "null_full_gtf = pd.merge(gencode_v47_df.reset_index(), null_exons_gtf[['index', 'start', 'end']], on='index', how='left', suffixes=['', '_null'])\n",
    "\n",
    "# add gene starts and ends as bounds \n",
    "gene_starts = null_full_gtf.groupby('gene_id').agg({'start':'min', 'end':'max'})\n",
    "null_full_gtf = pd.merge(null_full_gtf, gene_starts, on='gene_id', how='left', suffixes=['', '_gene'])\n",
    "\n",
    "# replace the start and end with the null version\n",
    "null_full_gtf['Start'] = np.where(null_full_gtf['Feature'] == 'exon', null_full_gtf['start'], null_full_gtf['start_gene'])\n",
    "null_full_gtf['End'] = np.where(null_full_gtf['Feature'] == 'exon', null_full_gtf['end'], null_full_gtf['end_gene'])"
   ]
  },
  {
   "cell_type": "code",
   "execution_count": null,
   "metadata": {},
   "outputs": [],
   "source": [
    "# Function to convert the DataFrame back to GTF format\n",
    "def df_to_gtf(df, output_file):\n",
    "    with open(output_file, 'w') as f:\n",
    "        f.write(\"##description: nongenic nulls matched to exons from annotation of the human genome (GRCh38), version 47 (Ensembl 113)\\n##provider: Kate Lawrence\\n##contact: klawren@stanford.edu\\n##format: gtf\\n##date: 2025-03-21\")\n",
    "        for index, row in df.iterrows():\n",
    "            attributes = f'gene_id \"{row[\"gene_id\"]}\"; transcript_id \"{row[\"transcript_id\"]}\"; exon_id \"{row[\"exon_id\"]}\";'\n",
    "            gtf_line = f'{row[\"Chromosome\"]}\\t{row[\"Source\"]}\\t{row[\"Feature\"]}\\t{row[\"Start\"]}\\t{row[\"End\"]}\\t{row[\"Score\"]}\\t{row[\"Strand\"]}\\t{row[\"Frame\"]}\\t{attributes}\\n'\n",
    "            f.write(gtf_line)"
   ]
  },
  {
   "cell_type": "code",
   "execution_count": 260,
   "metadata": {},
   "outputs": [],
   "source": [
    "df_to_gtf(null_full_gtf, '/home/klawren/oak/gtex/data/other_references/nongenic_null/matched_nongenic_null.v47.gtf')"
   ]
  },
  {
   "cell_type": "code",
   "execution_count": 263,
   "metadata": {},
   "outputs": [
    {
     "data": {
      "text/plain": [
       "581512"
      ]
     },
     "execution_count": 263,
     "metadata": {},
     "output_type": "execute_result"
    }
   ],
   "source": [
    "len(null_full_gtf)"
   ]
  },
  {
   "cell_type": "code",
   "execution_count": null,
   "metadata": {},
   "outputs": [],
   "source": []
  }
 ],
 "metadata": {
  "kernelspec": {
   "display_name": "Python 3 (ipykernel)",
   "language": "python",
   "name": "python3"
  },
  "language_info": {
   "codemirror_mode": {
    "name": "ipython",
    "version": 3
   },
   "file_extension": ".py",
   "mimetype": "text/x-python",
   "name": "python",
   "nbconvert_exporter": "python",
   "pygments_lexer": "ipython3",
   "version": "3.8.18"
  }
 },
 "nbformat": 4,
 "nbformat_minor": 2
}
